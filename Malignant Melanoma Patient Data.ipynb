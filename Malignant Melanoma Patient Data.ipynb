{
 "cells": [
  {
   "cell_type": "markdown",
   "id": "109fbaad",
   "metadata": {},
   "source": []
  },
  {
   "cell_type": "markdown",
   "id": "bad60719",
   "metadata": {},
   "source": [
    "## Problem Statement and Objectives\n",
    "\n",
    "This dataset contains measurements taken on patients with malignant melanoma who underwent surgery at the Department of Plastic Surgery, University Hospital of Odense, Denmark, between 1962 and 1977. The surgical procedure involved complete removal of the tumor along with approximately 2.5cm of surrounding skin. The dataset includes key prognostic variables such as tumor thickness and ulceration status, which are believed to be significant factors in predicting patient outcomes. Patients were followed up until the end of 1977.\n",
    "\n",
    "### Dataset Columns:\n",
    "\n",
    "1. **time**: Survival time in days since the operation.\n",
    "2. **status**: Patient status at the end of the study. \n",
    "   - 1 indicates death from melanoma.\n",
    "   - 2 indicates being alive.\n",
    "   - 3 indicates death from causes unrelated to melanoma.\n",
    "3. **sex**: Patient's sex.\n",
    "   - 1 represents male.\n",
    "   - 0 represents female.\n",
    "4. **age**: Age in years at the time of the operation.\n",
    "5. **year**: Year of the operation.\n",
    "6. **thickness**: Tumor thickness in millimeters (mm).\n",
    "7. **ulcer**: Indicator of ulceration.\n",
    "   - 1 indicates presence of ulceration.\n",
    "   - 0 indicates absence of ulceration.\n",
    "\n",
    "### Note:\n",
    "\n",
    "- Patients' survival time, tumor characteristics, and other variables are included in this dataset.\n",
    "- The dataset aims to facilitate research and analysis related to malignant melanoma prognosis and patient outcomes.\n",
    "\n",
    "\n",
    "### Processes¶\n",
    "**Data Gathering**: Collect relevant data related to food orders from the company's online portal.\n",
    "\n",
    "**Data Importation**: Import the collected data into a suitable data analysis environment.\n",
    "\n",
    "**Data cleaning**: Clean and preprocess the data to ensure accuracy and consistency.\n",
    "\n",
    "**Feature Engineering**: Extract meaningful features from the data to: Explore the data to identify patterns, trends, and potential areas for improvement.\n",
    "\n",
    "**Conclusions and Recommendations**: Summarize findings from the analysis and provide actionable recommendations for business enhancement based on the insights gained."
   ]
  },
  {
   "cell_type": "markdown",
   "id": "b21b5e9c",
   "metadata": {},
   "source": [
    "### Package Importation"
   ]
  },
  {
   "cell_type": "code",
   "execution_count": 6,
   "id": "b5a9a13d",
   "metadata": {},
   "outputs": [],
   "source": [
    "import os,sys\n",
    "import numpy as np\n",
    "import pandas as pd\n",
    "import matplotlib.pyplot as plt\n",
    "import matplotlib.style as style\n",
    "import seaborn as sns\n",
    "import scipy.stats as stats \n",
    "import pingouin\n",
    "import statsmodels.api as sm\n",
    "import statsmodels.formula.api as smf\n",
    "import sklearn\n",
    "%matplotlib inline"
   ]
  },
  {
   "cell_type": "code",
   "execution_count": 7,
   "id": "59ebe716",
   "metadata": {},
   "outputs": [
    {
     "name": "stdout",
     "output_type": "stream",
     "text": [
      " Volume in drive C has no label.\n",
      " Volume Serial Number is 3CF6-C7AB\n",
      "\n",
      " Directory of C:\\Users\\agnes\\OneDrive\\Documents\\GIZ Women in AI\\Assignments\n",
      "\n",
      "05/18/2024  08:39 AM    <DIR>          .\n",
      "05/18/2024  08:39 AM    <DIR>          ..\n",
      "05/14/2024  08:22 AM    <DIR>          .ipynb_checkpoints\n",
      "05/17/2024  10:30 PM         4,457,919 Entrepreneurship and Adaptability.pptx\n",
      "05/16/2024  10:06 AM         4,462,189 Entrepreneurship by Discover Template[1].pptx\n",
      "05/13/2024  09:46 PM           663,436 FoodHub Data_Analysis.ipynb\n",
      "03/21/2024  11:09 AM           123,933 foodhub_order.csv\n",
      "04/02/2024  01:47 PM           689,686 Joelle's Copy Mid-Course Project (Data Analysis Project).ipynb\n",
      "04/03/2024  08:56 AM        35,502,620 Joelles Excel Assignment.xlsx\n",
      "05/18/2024  08:39 AM           293,584 Malignant Melanoma Patient Data.ipynb\n",
      "03/27/2024  02:15 PM             5,127 melanoma.csv\n",
      "04/11/2024  06:52 PM            12,962 Mid-Course Project (Data Analysis Project).ipynb\n",
      "03/25/2024  09:42 AM        12,033,474 superstore data.csv\n",
      "04/04/2024  05:04 PM         7,426,125 The_OISP_Campaign_Group3.pptx\n",
      "              11 File(s)     65,671,055 bytes\n",
      "               3 Dir(s)  40,966,053,888 bytes free\n"
     ]
    }
   ],
   "source": [
    "ls"
   ]
  },
  {
   "cell_type": "code",
   "execution_count": 8,
   "id": "af4af837",
   "metadata": {},
   "outputs": [],
   "source": [
    "melanoma=pd.read_csv(\"melanoma.csv\")"
   ]
  },
  {
   "cell_type": "markdown",
   "id": "8da172a9",
   "metadata": {},
   "source": [
    "### Data Cleaning"
   ]
  },
  {
   "cell_type": "markdown",
   "id": "41e50fcb",
   "metadata": {},
   "source": [
    "#### Sanity Check"
   ]
  },
  {
   "cell_type": "code",
   "execution_count": 9,
   "id": "0cd309c4",
   "metadata": {
    "scrolled": true
   },
   "outputs": [
    {
     "data": {
      "text/html": [
       "<div>\n",
       "<style scoped>\n",
       "    .dataframe tbody tr th:only-of-type {\n",
       "        vertical-align: middle;\n",
       "    }\n",
       "\n",
       "    .dataframe tbody tr th {\n",
       "        vertical-align: top;\n",
       "    }\n",
       "\n",
       "    .dataframe thead th {\n",
       "        text-align: right;\n",
       "    }\n",
       "</style>\n",
       "<table border=\"1\" class=\"dataframe\">\n",
       "  <thead>\n",
       "    <tr style=\"text-align: right;\">\n",
       "      <th></th>\n",
       "      <th>time</th>\n",
       "      <th>status</th>\n",
       "      <th>sex</th>\n",
       "      <th>age</th>\n",
       "      <th>year</th>\n",
       "      <th>thickness</th>\n",
       "      <th>ulcer</th>\n",
       "    </tr>\n",
       "  </thead>\n",
       "  <tbody>\n",
       "    <tr>\n",
       "      <th>0</th>\n",
       "      <td>10</td>\n",
       "      <td>3</td>\n",
       "      <td>1</td>\n",
       "      <td>76</td>\n",
       "      <td>1972</td>\n",
       "      <td>6.76</td>\n",
       "      <td>1</td>\n",
       "    </tr>\n",
       "    <tr>\n",
       "      <th>1</th>\n",
       "      <td>30</td>\n",
       "      <td>3</td>\n",
       "      <td>1</td>\n",
       "      <td>56</td>\n",
       "      <td>1968</td>\n",
       "      <td>0.65</td>\n",
       "      <td>0</td>\n",
       "    </tr>\n",
       "    <tr>\n",
       "      <th>2</th>\n",
       "      <td>35</td>\n",
       "      <td>2</td>\n",
       "      <td>1</td>\n",
       "      <td>41</td>\n",
       "      <td>1977</td>\n",
       "      <td>1.34</td>\n",
       "      <td>0</td>\n",
       "    </tr>\n",
       "    <tr>\n",
       "      <th>3</th>\n",
       "      <td>99</td>\n",
       "      <td>3</td>\n",
       "      <td>0</td>\n",
       "      <td>71</td>\n",
       "      <td>1968</td>\n",
       "      <td>2.90</td>\n",
       "      <td>0</td>\n",
       "    </tr>\n",
       "    <tr>\n",
       "      <th>4</th>\n",
       "      <td>185</td>\n",
       "      <td>1</td>\n",
       "      <td>1</td>\n",
       "      <td>52</td>\n",
       "      <td>1965</td>\n",
       "      <td>12.08</td>\n",
       "      <td>1</td>\n",
       "    </tr>\n",
       "  </tbody>\n",
       "</table>\n",
       "</div>"
      ],
      "text/plain": [
       "   time  status  sex  age  year  thickness  ulcer\n",
       "0    10       3    1   76  1972       6.76      1\n",
       "1    30       3    1   56  1968       0.65      0\n",
       "2    35       2    1   41  1977       1.34      0\n",
       "3    99       3    0   71  1968       2.90      0\n",
       "4   185       1    1   52  1965      12.08      1"
      ]
     },
     "execution_count": 9,
     "metadata": {},
     "output_type": "execute_result"
    }
   ],
   "source": [
    "melanoma.head()"
   ]
  },
  {
   "cell_type": "code",
   "execution_count": 10,
   "id": "0984dea4",
   "metadata": {
    "scrolled": true
   },
   "outputs": [
    {
     "data": {
      "text/html": [
       "<div>\n",
       "<style scoped>\n",
       "    .dataframe tbody tr th:only-of-type {\n",
       "        vertical-align: middle;\n",
       "    }\n",
       "\n",
       "    .dataframe tbody tr th {\n",
       "        vertical-align: top;\n",
       "    }\n",
       "\n",
       "    .dataframe thead th {\n",
       "        text-align: right;\n",
       "    }\n",
       "</style>\n",
       "<table border=\"1\" class=\"dataframe\">\n",
       "  <thead>\n",
       "    <tr style=\"text-align: right;\">\n",
       "      <th></th>\n",
       "      <th>time</th>\n",
       "      <th>status</th>\n",
       "      <th>sex</th>\n",
       "      <th>age</th>\n",
       "      <th>year</th>\n",
       "      <th>thickness</th>\n",
       "      <th>ulcer</th>\n",
       "    </tr>\n",
       "  </thead>\n",
       "  <tbody>\n",
       "    <tr>\n",
       "      <th>200</th>\n",
       "      <td>4492</td>\n",
       "      <td>2</td>\n",
       "      <td>1</td>\n",
       "      <td>29</td>\n",
       "      <td>1965</td>\n",
       "      <td>7.06</td>\n",
       "      <td>1</td>\n",
       "    </tr>\n",
       "    <tr>\n",
       "      <th>201</th>\n",
       "      <td>4668</td>\n",
       "      <td>2</td>\n",
       "      <td>0</td>\n",
       "      <td>40</td>\n",
       "      <td>1965</td>\n",
       "      <td>6.12</td>\n",
       "      <td>0</td>\n",
       "    </tr>\n",
       "    <tr>\n",
       "      <th>202</th>\n",
       "      <td>4688</td>\n",
       "      <td>2</td>\n",
       "      <td>0</td>\n",
       "      <td>42</td>\n",
       "      <td>1965</td>\n",
       "      <td>0.48</td>\n",
       "      <td>0</td>\n",
       "    </tr>\n",
       "    <tr>\n",
       "      <th>203</th>\n",
       "      <td>4926</td>\n",
       "      <td>2</td>\n",
       "      <td>0</td>\n",
       "      <td>50</td>\n",
       "      <td>1964</td>\n",
       "      <td>2.26</td>\n",
       "      <td>0</td>\n",
       "    </tr>\n",
       "    <tr>\n",
       "      <th>204</th>\n",
       "      <td>5565</td>\n",
       "      <td>2</td>\n",
       "      <td>0</td>\n",
       "      <td>41</td>\n",
       "      <td>1962</td>\n",
       "      <td>2.90</td>\n",
       "      <td>0</td>\n",
       "    </tr>\n",
       "  </tbody>\n",
       "</table>\n",
       "</div>"
      ],
      "text/plain": [
       "     time  status  sex  age  year  thickness  ulcer\n",
       "200  4492       2    1   29  1965       7.06      1\n",
       "201  4668       2    0   40  1965       6.12      0\n",
       "202  4688       2    0   42  1965       0.48      0\n",
       "203  4926       2    0   50  1964       2.26      0\n",
       "204  5565       2    0   41  1962       2.90      0"
      ]
     },
     "execution_count": 10,
     "metadata": {},
     "output_type": "execute_result"
    }
   ],
   "source": [
    "melanoma.tail()"
   ]
  },
  {
   "cell_type": "code",
   "execution_count": 11,
   "id": "42d4153d",
   "metadata": {},
   "outputs": [
    {
     "data": {
      "text/plain": [
       "time           int64\n",
       "status         int64\n",
       "sex            int64\n",
       "age            int64\n",
       "year           int64\n",
       "thickness    float64\n",
       "ulcer          int64\n",
       "dtype: object"
      ]
     },
     "execution_count": 11,
     "metadata": {},
     "output_type": "execute_result"
    }
   ],
   "source": [
    "melanoma.dtypes"
   ]
  },
  {
   "cell_type": "code",
   "execution_count": 12,
   "id": "2c9740f9",
   "metadata": {},
   "outputs": [
    {
     "data": {
      "text/html": [
       "<div>\n",
       "<style scoped>\n",
       "    .dataframe tbody tr th:only-of-type {\n",
       "        vertical-align: middle;\n",
       "    }\n",
       "\n",
       "    .dataframe tbody tr th {\n",
       "        vertical-align: top;\n",
       "    }\n",
       "\n",
       "    .dataframe thead th {\n",
       "        text-align: right;\n",
       "    }\n",
       "</style>\n",
       "<table border=\"1\" class=\"dataframe\">\n",
       "  <thead>\n",
       "    <tr style=\"text-align: right;\">\n",
       "      <th></th>\n",
       "      <th>time</th>\n",
       "      <th>status</th>\n",
       "      <th>sex</th>\n",
       "      <th>age</th>\n",
       "      <th>year</th>\n",
       "      <th>thickness</th>\n",
       "      <th>ulcer</th>\n",
       "    </tr>\n",
       "  </thead>\n",
       "  <tbody>\n",
       "    <tr>\n",
       "      <th>count</th>\n",
       "      <td>205.000000</td>\n",
       "      <td>205.000000</td>\n",
       "      <td>205.000000</td>\n",
       "      <td>205.000000</td>\n",
       "      <td>205.000000</td>\n",
       "      <td>205.000000</td>\n",
       "      <td>205.000000</td>\n",
       "    </tr>\n",
       "    <tr>\n",
       "      <th>mean</th>\n",
       "      <td>2152.800000</td>\n",
       "      <td>1.790244</td>\n",
       "      <td>0.385366</td>\n",
       "      <td>52.463415</td>\n",
       "      <td>1969.907317</td>\n",
       "      <td>2.919854</td>\n",
       "      <td>0.439024</td>\n",
       "    </tr>\n",
       "    <tr>\n",
       "      <th>std</th>\n",
       "      <td>1122.060667</td>\n",
       "      <td>0.551204</td>\n",
       "      <td>0.487873</td>\n",
       "      <td>16.671711</td>\n",
       "      <td>2.575563</td>\n",
       "      <td>2.959433</td>\n",
       "      <td>0.497483</td>\n",
       "    </tr>\n",
       "    <tr>\n",
       "      <th>min</th>\n",
       "      <td>10.000000</td>\n",
       "      <td>1.000000</td>\n",
       "      <td>0.000000</td>\n",
       "      <td>4.000000</td>\n",
       "      <td>1962.000000</td>\n",
       "      <td>0.100000</td>\n",
       "      <td>0.000000</td>\n",
       "    </tr>\n",
       "    <tr>\n",
       "      <th>25%</th>\n",
       "      <td>1525.000000</td>\n",
       "      <td>1.000000</td>\n",
       "      <td>0.000000</td>\n",
       "      <td>42.000000</td>\n",
       "      <td>1968.000000</td>\n",
       "      <td>0.970000</td>\n",
       "      <td>0.000000</td>\n",
       "    </tr>\n",
       "    <tr>\n",
       "      <th>50%</th>\n",
       "      <td>2005.000000</td>\n",
       "      <td>2.000000</td>\n",
       "      <td>0.000000</td>\n",
       "      <td>54.000000</td>\n",
       "      <td>1970.000000</td>\n",
       "      <td>1.940000</td>\n",
       "      <td>0.000000</td>\n",
       "    </tr>\n",
       "    <tr>\n",
       "      <th>75%</th>\n",
       "      <td>3042.000000</td>\n",
       "      <td>2.000000</td>\n",
       "      <td>1.000000</td>\n",
       "      <td>65.000000</td>\n",
       "      <td>1972.000000</td>\n",
       "      <td>3.560000</td>\n",
       "      <td>1.000000</td>\n",
       "    </tr>\n",
       "    <tr>\n",
       "      <th>max</th>\n",
       "      <td>5565.000000</td>\n",
       "      <td>3.000000</td>\n",
       "      <td>1.000000</td>\n",
       "      <td>95.000000</td>\n",
       "      <td>1977.000000</td>\n",
       "      <td>17.420000</td>\n",
       "      <td>1.000000</td>\n",
       "    </tr>\n",
       "  </tbody>\n",
       "</table>\n",
       "</div>"
      ],
      "text/plain": [
       "              time      status         sex         age         year  \\\n",
       "count   205.000000  205.000000  205.000000  205.000000   205.000000   \n",
       "mean   2152.800000    1.790244    0.385366   52.463415  1969.907317   \n",
       "std    1122.060667    0.551204    0.487873   16.671711     2.575563   \n",
       "min      10.000000    1.000000    0.000000    4.000000  1962.000000   \n",
       "25%    1525.000000    1.000000    0.000000   42.000000  1968.000000   \n",
       "50%    2005.000000    2.000000    0.000000   54.000000  1970.000000   \n",
       "75%    3042.000000    2.000000    1.000000   65.000000  1972.000000   \n",
       "max    5565.000000    3.000000    1.000000   95.000000  1977.000000   \n",
       "\n",
       "        thickness       ulcer  \n",
       "count  205.000000  205.000000  \n",
       "mean     2.919854    0.439024  \n",
       "std      2.959433    0.497483  \n",
       "min      0.100000    0.000000  \n",
       "25%      0.970000    0.000000  \n",
       "50%      1.940000    0.000000  \n",
       "75%      3.560000    1.000000  \n",
       "max     17.420000    1.000000  "
      ]
     },
     "execution_count": 12,
     "metadata": {},
     "output_type": "execute_result"
    }
   ],
   "source": [
    "melanoma.describe()"
   ]
  },
  {
   "cell_type": "code",
   "execution_count": 13,
   "id": "02e668fa",
   "metadata": {},
   "outputs": [
    {
     "data": {
      "text/html": [
       "<div>\n",
       "<style scoped>\n",
       "    .dataframe tbody tr th:only-of-type {\n",
       "        vertical-align: middle;\n",
       "    }\n",
       "\n",
       "    .dataframe tbody tr th {\n",
       "        vertical-align: top;\n",
       "    }\n",
       "\n",
       "    .dataframe thead th {\n",
       "        text-align: right;\n",
       "    }\n",
       "</style>\n",
       "<table border=\"1\" class=\"dataframe\">\n",
       "  <thead>\n",
       "    <tr style=\"text-align: right;\">\n",
       "      <th></th>\n",
       "      <th>time</th>\n",
       "      <th>status</th>\n",
       "      <th>sex</th>\n",
       "      <th>age</th>\n",
       "      <th>year</th>\n",
       "      <th>thickness</th>\n",
       "      <th>ulcer</th>\n",
       "    </tr>\n",
       "  </thead>\n",
       "  <tbody>\n",
       "    <tr>\n",
       "      <th>0</th>\n",
       "      <td>10</td>\n",
       "      <td>3</td>\n",
       "      <td>1</td>\n",
       "      <td>76</td>\n",
       "      <td>1972</td>\n",
       "      <td>6.76</td>\n",
       "      <td>1</td>\n",
       "    </tr>\n",
       "    <tr>\n",
       "      <th>1</th>\n",
       "      <td>30</td>\n",
       "      <td>3</td>\n",
       "      <td>1</td>\n",
       "      <td>56</td>\n",
       "      <td>1968</td>\n",
       "      <td>0.65</td>\n",
       "      <td>0</td>\n",
       "    </tr>\n",
       "    <tr>\n",
       "      <th>2</th>\n",
       "      <td>35</td>\n",
       "      <td>2</td>\n",
       "      <td>1</td>\n",
       "      <td>41</td>\n",
       "      <td>1977</td>\n",
       "      <td>1.34</td>\n",
       "      <td>0</td>\n",
       "    </tr>\n",
       "    <tr>\n",
       "      <th>3</th>\n",
       "      <td>99</td>\n",
       "      <td>3</td>\n",
       "      <td>0</td>\n",
       "      <td>71</td>\n",
       "      <td>1968</td>\n",
       "      <td>2.90</td>\n",
       "      <td>0</td>\n",
       "    </tr>\n",
       "    <tr>\n",
       "      <th>4</th>\n",
       "      <td>185</td>\n",
       "      <td>1</td>\n",
       "      <td>1</td>\n",
       "      <td>52</td>\n",
       "      <td>1965</td>\n",
       "      <td>12.08</td>\n",
       "      <td>1</td>\n",
       "    </tr>\n",
       "    <tr>\n",
       "      <th>...</th>\n",
       "      <td>...</td>\n",
       "      <td>...</td>\n",
       "      <td>...</td>\n",
       "      <td>...</td>\n",
       "      <td>...</td>\n",
       "      <td>...</td>\n",
       "      <td>...</td>\n",
       "    </tr>\n",
       "    <tr>\n",
       "      <th>200</th>\n",
       "      <td>4492</td>\n",
       "      <td>2</td>\n",
       "      <td>1</td>\n",
       "      <td>29</td>\n",
       "      <td>1965</td>\n",
       "      <td>7.06</td>\n",
       "      <td>1</td>\n",
       "    </tr>\n",
       "    <tr>\n",
       "      <th>201</th>\n",
       "      <td>4668</td>\n",
       "      <td>2</td>\n",
       "      <td>0</td>\n",
       "      <td>40</td>\n",
       "      <td>1965</td>\n",
       "      <td>6.12</td>\n",
       "      <td>0</td>\n",
       "    </tr>\n",
       "    <tr>\n",
       "      <th>202</th>\n",
       "      <td>4688</td>\n",
       "      <td>2</td>\n",
       "      <td>0</td>\n",
       "      <td>42</td>\n",
       "      <td>1965</td>\n",
       "      <td>0.48</td>\n",
       "      <td>0</td>\n",
       "    </tr>\n",
       "    <tr>\n",
       "      <th>203</th>\n",
       "      <td>4926</td>\n",
       "      <td>2</td>\n",
       "      <td>0</td>\n",
       "      <td>50</td>\n",
       "      <td>1964</td>\n",
       "      <td>2.26</td>\n",
       "      <td>0</td>\n",
       "    </tr>\n",
       "    <tr>\n",
       "      <th>204</th>\n",
       "      <td>5565</td>\n",
       "      <td>2</td>\n",
       "      <td>0</td>\n",
       "      <td>41</td>\n",
       "      <td>1962</td>\n",
       "      <td>2.90</td>\n",
       "      <td>0</td>\n",
       "    </tr>\n",
       "  </tbody>\n",
       "</table>\n",
       "<p>205 rows × 7 columns</p>\n",
       "</div>"
      ],
      "text/plain": [
       "     time  status sex  age  year  thickness ulcer\n",
       "0      10       3   1   76  1972       6.76     1\n",
       "1      30       3   1   56  1968       0.65     0\n",
       "2      35       2   1   41  1977       1.34     0\n",
       "3      99       3   0   71  1968       2.90     0\n",
       "4     185       1   1   52  1965      12.08     1\n",
       "..    ...     ...  ..  ...   ...        ...   ...\n",
       "200  4492       2   1   29  1965       7.06     1\n",
       "201  4668       2   0   40  1965       6.12     0\n",
       "202  4688       2   0   42  1965       0.48     0\n",
       "203  4926       2   0   50  1964       2.26     0\n",
       "204  5565       2   0   41  1962       2.90     0\n",
       "\n",
       "[205 rows x 7 columns]"
      ]
     },
     "execution_count": 13,
     "metadata": {},
     "output_type": "execute_result"
    }
   ],
   "source": [
    "\n",
    "melanoma[\"time\"]=melanoma[\"time\"].astype(int)\n",
    "melanoma[\"year\"]=melanoma[\"year\"].astype(str)\n",
    "melanoma[\"sex\"]=melanoma[\"sex\"].astype(str)\n",
    "melanoma[\"ulcer\"]=melanoma[\"ulcer\"].astype(str)\n",
    "melanoma[\"status\"]=melanoma[\"status\"].astype(int)\n",
    "\n",
    "\n",
    "melanoma"
   ]
  },
  {
   "cell_type": "code",
   "execution_count": 14,
   "id": "5156e42d",
   "metadata": {
    "scrolled": true
   },
   "outputs": [
    {
     "data": {
      "text/plain": [
       "time           int32\n",
       "status         int32\n",
       "sex           object\n",
       "age            int64\n",
       "year          object\n",
       "thickness    float64\n",
       "ulcer         object\n",
       "dtype: object"
      ]
     },
     "execution_count": 14,
     "metadata": {},
     "output_type": "execute_result"
    }
   ],
   "source": [
    "melanoma.dtypes"
   ]
  },
  {
   "cell_type": "code",
   "execution_count": 15,
   "id": "14edfae8",
   "metadata": {},
   "outputs": [
    {
     "data": {
      "text/plain": [
       "time         0\n",
       "status       0\n",
       "sex          0\n",
       "age          0\n",
       "year         0\n",
       "thickness    0\n",
       "ulcer        0\n",
       "dtype: int64"
      ]
     },
     "execution_count": 15,
     "metadata": {},
     "output_type": "execute_result"
    }
   ],
   "source": [
    "melanoma.isnull().sum()"
   ]
  },
  {
   "cell_type": "code",
   "execution_count": 16,
   "id": "fbb2ebed",
   "metadata": {},
   "outputs": [
    {
     "data": {
      "text/plain": [
       "0"
      ]
     },
     "execution_count": 16,
     "metadata": {},
     "output_type": "execute_result"
    }
   ],
   "source": [
    "melanoma.duplicated().sum()"
   ]
  },
  {
   "cell_type": "code",
   "execution_count": 17,
   "id": "2b55571e",
   "metadata": {},
   "outputs": [
    {
     "data": {
      "text/plain": [
       "95"
      ]
     },
     "execution_count": 17,
     "metadata": {},
     "output_type": "execute_result"
    }
   ],
   "source": [
    "melanoma[\"age\"].max()"
   ]
  },
  {
   "cell_type": "code",
   "execution_count": 18,
   "id": "2e034079",
   "metadata": {},
   "outputs": [
    {
     "data": {
      "text/plain": [
       "<function matplotlib.pyplot.show(close=None, block=None)>"
      ]
     },
     "execution_count": 18,
     "metadata": {},
     "output_type": "execute_result"
    },
    {
     "data": {
      "image/png": "[encoded data removed]",
      "text/plain": [
       "<Figure size 640x480 with 1 Axes>"
      ]
     },
     "metadata": {},
     "output_type": "display_data"
    }
   ],
   "source": [
    "sns.histplot(x=melanoma[\"age\"], kde=True)\n",
    "\n",
    "plt.show"
   ]
  },
  {
   "cell_type": "code",
   "execution_count": 19,
   "id": "b9278d03",
   "metadata": {
    "scrolled": false
   },
   "outputs": [
    {
     "data": {
      "text/plain": [
       "<function matplotlib.pyplot.show(close=None, block=None)>"
      ]
     },
     "execution_count": 19,
     "metadata": {},
     "output_type": "execute_result"
    },
    {
     "data": {
      "image/png": "[encoded data removed]",
      "text/plain": [
       "<Figure size 640x480 with 1 Axes>"
      ]
     },
     "metadata": {},
     "output_type": "display_data"
    }
   ],
   "source": [
    "sns.histplot(melanoma[\"status\"], bins=3)\n",
    "plt.show"
   ]
  },
  {
   "cell_type": "code",
   "execution_count": 20,
   "id": "b6589bf8",
   "metadata": {},
   "outputs": [
    {
     "data": {
      "text/plain": [
       "<function matplotlib.pyplot.show(close=None, block=None)>"
      ]
     },
     "execution_count": 20,
     "metadata": {},
     "output_type": "execute_result"
    },
    {
     "data": {
      "image/png": "[encoded data removed]",
      "text/plain": [
       "<Figure size 640x480 with 1 Axes>"
      ]
     },
     "metadata": {},
     "output_type": "display_data"
    }
   ],
   "source": [
    "sns.histplot(melanoma[\"sex\"], bins=3)\n",
    "plt.show"
   ]
  },
  {
   "cell_type": "code",
   "execution_count": 21,
   "id": "70f53ee4",
   "metadata": {},
   "outputs": [
    {
     "data": {
      "text/plain": [
       "<function matplotlib.pyplot.show(close=None, block=None)>"
      ]
     },
     "execution_count": 21,
     "metadata": {},
     "output_type": "execute_result"
    },
    {
     "data": {
      "image/png": "[encoded data removed]",
      "text/plain": [
       "<Figure size 640x480 with 1 Axes>"
      ]
     },
     "metadata": {},
     "output_type": "display_data"
    }
   ],
   "source": [
    "sns.countplot(x=melanoma[\"year\"].sort_values())\n",
    "plt.title=(\"Distribution of the Year\")\n",
    "plt.show"
   ]
  },
  {
   "cell_type": "code",
   "execution_count": 22,
   "id": "643b9d13",
   "metadata": {},
   "outputs": [
    {
     "data": {
      "text/html": [
       "<div>\n",
       "<style scoped>\n",
       "    .dataframe tbody tr th:only-of-type {\n",
       "        vertical-align: middle;\n",
       "    }\n",
       "\n",
       "    .dataframe tbody tr th {\n",
       "        vertical-align: top;\n",
       "    }\n",
       "\n",
       "    .dataframe thead th {\n",
       "        text-align: right;\n",
       "    }\n",
       "</style>\n",
       "<table border=\"1\" class=\"dataframe\">\n",
       "  <thead>\n",
       "    <tr style=\"text-align: right;\">\n",
       "      <th></th>\n",
       "      <th>time</th>\n",
       "      <th>status</th>\n",
       "      <th>sex</th>\n",
       "      <th>age</th>\n",
       "      <th>year</th>\n",
       "      <th>thickness</th>\n",
       "      <th>ulcer</th>\n",
       "    </tr>\n",
       "  </thead>\n",
       "  <tbody>\n",
       "    <tr>\n",
       "      <th>0</th>\n",
       "      <td>10</td>\n",
       "      <td>3</td>\n",
       "      <td>1</td>\n",
       "      <td>76</td>\n",
       "      <td>1972</td>\n",
       "      <td>6.76</td>\n",
       "      <td>1</td>\n",
       "    </tr>\n",
       "    <tr>\n",
       "      <th>1</th>\n",
       "      <td>30</td>\n",
       "      <td>3</td>\n",
       "      <td>1</td>\n",
       "      <td>56</td>\n",
       "      <td>1968</td>\n",
       "      <td>0.65</td>\n",
       "      <td>0</td>\n",
       "    </tr>\n",
       "    <tr>\n",
       "      <th>2</th>\n",
       "      <td>35</td>\n",
       "      <td>2</td>\n",
       "      <td>1</td>\n",
       "      <td>41</td>\n",
       "      <td>1977</td>\n",
       "      <td>1.34</td>\n",
       "      <td>0</td>\n",
       "    </tr>\n",
       "    <tr>\n",
       "      <th>3</th>\n",
       "      <td>99</td>\n",
       "      <td>3</td>\n",
       "      <td>0</td>\n",
       "      <td>71</td>\n",
       "      <td>1968</td>\n",
       "      <td>2.90</td>\n",
       "      <td>0</td>\n",
       "    </tr>\n",
       "    <tr>\n",
       "      <th>4</th>\n",
       "      <td>185</td>\n",
       "      <td>1</td>\n",
       "      <td>1</td>\n",
       "      <td>52</td>\n",
       "      <td>1965</td>\n",
       "      <td>12.08</td>\n",
       "      <td>1</td>\n",
       "    </tr>\n",
       "  </tbody>\n",
       "</table>\n",
       "</div>"
      ],
      "text/plain": [
       "   time  status sex  age  year  thickness ulcer\n",
       "0    10       3   1   76  1972       6.76     1\n",
       "1    30       3   1   56  1968       0.65     0\n",
       "2    35       2   1   41  1977       1.34     0\n",
       "3    99       3   0   71  1968       2.90     0\n",
       "4   185       1   1   52  1965      12.08     1"
      ]
     },
     "execution_count": 22,
     "metadata": {},
     "output_type": "execute_result"
    }
   ],
   "source": [
    "melanoma.head()\n"
   ]
  },
  {
   "cell_type": "code",
   "execution_count": 75,
   "id": "b2b56811",
   "metadata": {},
   "outputs": [
    {
     "data": {
      "text/plain": [
       "sex  age\n",
       "0    58     7\n",
       "     42     5\n",
       "     69     5\n",
       "     65     5\n",
       "     60     5\n",
       "           ..\n",
       "1    28     1\n",
       "     29     1\n",
       "     34     1\n",
       "     35     1\n",
       "     95     1\n",
       "Name: count, Length: 106, dtype: int64"
      ]
     },
     "execution_count": 75,
     "metadata": {},
     "output_type": "execute_result"
    }
   ],
   "source": [
    "age_by_group=melanoma.groupby(\"sex\")[[\"age\"]].value_counts()\n",
    "age_by_group"
   ]
  },
  {
   "cell_type": "code",
   "execution_count": 87,
   "id": "4b16aa2c",
   "metadata": {},
   "outputs": [
    {
     "data": {
      "text/plain": [
       "<function matplotlib.pyplot.show(close=None, block=None)>"
      ]
     },
     "execution_count": 87,
     "metadata": {},
     "output_type": "execute_result"
    },
    {
     "data": {
      "image/png": "[encoded data removed]",
      "text/plain": [
       "<Figure size 640x480 with 1 Axes>"
      ]
     },
     "metadata": {},
     "output_type": "display_data"
    }
   ],
   "source": [
    "sns.boxplot(x=\"sex\", y=\"age\", data=melanoma)\n",
    "plt.show"
   ]
  },
  {
   "cell_type": "code",
   "execution_count": null,
   "id": "05abc28c",
   "metadata": {},
   "outputs": [],
   "source": []
  },
  {
   "cell_type": "code",
   "execution_count": 76,
   "id": "9136620f",
   "metadata": {
    "scrolled": false
   },
   "outputs": [
    {
     "data": {
      "text/plain": [
       "<function matplotlib.pyplot.show(close=None, block=None)>"
      ]
     },
     "execution_count": 76,
     "metadata": {},
     "output_type": "execute_result"
    },
    {
     "data": {
      "image/png": "[encoded data removed]",
      "text/plain": [
       "<Figure size 640x480 with 1 Axes>"
      ]
     },
     "metadata": {},
     "output_type": "display_data"
    }
   ],
   "source": [
    "sns.barplot(x=\"status\", y=\"age\", data = melanoma)\n",
    "\n",
    "plt.show"
   ]
  },
  {
   "cell_type": "markdown",
   "id": "98dfcc83",
   "metadata": {},
   "source": [
    "## Analysis for average survival time of ulceration vs no ulceration \n",
    "   \n",
    "    checking for the assumptions and T test\n",
    "    \n",
    "    Defining the null and alternative hypothesis\n",
    "\n",
    "**null hypothesis**: There is no difference between average survival rate for people with no ulceration \n",
    "    and people with ulceration\n",
    "    \n",
    "**alternative hypothesis**: The survival rate for people with no ulceration is greater than that of \n",
    "    people with ulceration\n",
    "    \n",
    "    \n",
    "    Alpha = 0.05"
   ]
  },
  {
   "cell_type": "code",
   "execution_count": 100,
   "id": "095a2be6",
   "metadata": {
    "scrolled": true
   },
   "outputs": [
    {
     "data": {
      "text/plain": [
       "2        35\n",
       "25      817\n",
       "28      858\n",
       "29      869\n",
       "30      872\n",
       "       ... \n",
       "197    4310\n",
       "201    4668\n",
       "202    4688\n",
       "203    4926\n",
       "204    5565\n",
       "Name: time, Length: 108, dtype: int32"
      ]
     },
     "execution_count": 100,
     "metadata": {},
     "output_type": "execute_result"
    }
   ],
   "source": [
    "\n",
    "melanoma[\"status\"]=melanoma[\"status\"].astype(str)\n",
    "\n",
    "no_ulcer=melanoma[(melanoma[\"ulcer\"]==\"0\") & (melanoma[\"status\"]!=\"3\")][\"time\"]\n",
    "no_ulcer"
   ]
  },
  {
   "cell_type": "code",
   "execution_count": 104,
   "id": "57299d0b",
   "metadata": {},
   "outputs": [
    {
     "data": {
      "text/plain": [
       "<function matplotlib.pyplot.show(close=None, block=None)>"
      ]
     },
     "execution_count": 104,
     "metadata": {},
     "output_type": "execute_result"
    },
    {
     "data": {
      "image/png": "[encoded data removed]",
      "text/plain": [
       "<Figure size 640x480 with 1 Axes>"
      ]
     },
     "metadata": {},
     "output_type": "display_data"
    }
   ],
   "source": [
    "sns.histplot(x=no_ulcer, data=melanoma, kde=True, color=\"skyblue\")\n",
    "plt.show"
   ]
  },
  {
   "cell_type": "code",
   "execution_count": 99,
   "id": "b7f4fac4",
   "metadata": {},
   "outputs": [
    {
     "data": {
      "text/plain": [
       "4       185\n",
       "5       204\n",
       "6       210\n",
       "8       232\n",
       "9       279\n",
       "       ... \n",
       "190    3909\n",
       "195    4124\n",
       "198    4390\n",
       "199    4479\n",
       "200    4492\n",
       "Name: time, Length: 83, dtype: int32"
      ]
     },
     "execution_count": 99,
     "metadata": {},
     "output_type": "execute_result"
    }
   ],
   "source": [
    "people_with_ulcer=melanoma[(melanoma[\"ulcer\"]==\"1\") & (melanoma[\"status\"]!=\"3\")][\"time\"]\n",
    "people_with_ulcer"
   ]
  },
  {
   "cell_type": "code",
   "execution_count": 103,
   "id": "3dfec448",
   "metadata": {
    "scrolled": false
   },
   "outputs": [
    {
     "data": {
      "text/plain": [
       "<function matplotlib.pyplot.show(close=None, block=None)>"
      ]
     },
     "execution_count": 103,
     "metadata": {},
     "output_type": "execute_result"
    },
    {
     "data": {
      "image/png": "[encoded data removed]",
      "text/plain": [
       "<Figure size 640x480 with 1 Axes>"
      ]
     },
     "metadata": {},
     "output_type": "display_data"
    }
   ],
   "source": [
    "sns.histplot(x=people_with_ulcer, data=melanoma, kde=True, color=\"skyblue\")\n",
    "plt.show"
   ]
  },
  {
   "cell_type": "code",
   "execution_count": 114,
   "id": "c352c2b3",
   "metadata": {},
   "outputs": [
    {
     "data": {
      "text/plain": [
       "1271517.0323704456"
      ]
     },
     "execution_count": 114,
     "metadata": {},
     "output_type": "execute_result"
    }
   ],
   "source": [
    "np.var(people_with_ulcer)"
   ]
  },
  {
   "cell_type": "code",
   "execution_count": 115,
   "id": "20f027ee",
   "metadata": {},
   "outputs": [
    {
     "data": {
      "text/plain": [
       "994600.6025377229"
      ]
     },
     "execution_count": 115,
     "metadata": {},
     "output_type": "execute_result"
    }
   ],
   "source": [
    "np.var(no_ulcer)"
   ]
  },
  {
   "cell_type": "code",
   "execution_count": 116,
   "id": "0653220b",
   "metadata": {},
   "outputs": [
    {
     "data": {
      "text/plain": [
       "1.278419728608821"
      ]
     },
     "execution_count": 116,
     "metadata": {},
     "output_type": "execute_result"
    }
   ],
   "source": [
    "np.var(people_with_ulcer)/np.var(no_ulcer)"
   ]
  },
  {
   "cell_type": "code",
   "execution_count": 117,
   "id": "10d0e6c9",
   "metadata": {},
   "outputs": [
    {
     "data": {
      "text/html": [
       "<div>\n",
       "<style scoped>\n",
       "    .dataframe tbody tr th:only-of-type {\n",
       "        vertical-align: middle;\n",
       "    }\n",
       "\n",
       "    .dataframe tbody tr th {\n",
       "        vertical-align: top;\n",
       "    }\n",
       "\n",
       "    .dataframe thead th {\n",
       "        text-align: right;\n",
       "    }\n",
       "</style>\n",
       "<table border=\"1\" class=\"dataframe\">\n",
       "  <thead>\n",
       "    <tr style=\"text-align: right;\">\n",
       "      <th></th>\n",
       "      <th>T</th>\n",
       "      <th>dof</th>\n",
       "      <th>alternative</th>\n",
       "      <th>p-val</th>\n",
       "      <th>CI95%</th>\n",
       "      <th>cohen-d</th>\n",
       "      <th>BF10</th>\n",
       "      <th>power</th>\n",
       "    </tr>\n",
       "  </thead>\n",
       "  <tbody>\n",
       "    <tr>\n",
       "      <th>T-test</th>\n",
       "      <td>3.427872</td>\n",
       "      <td>164.481086</td>\n",
       "      <td>greater</td>\n",
       "      <td>0.000384</td>\n",
       "      <td>[279.33, inf]</td>\n",
       "      <td>0.508574</td>\n",
       "      <td>68.008</td>\n",
       "      <td>0.966129</td>\n",
       "    </tr>\n",
       "  </tbody>\n",
       "</table>\n",
       "</div>"
      ],
      "text/plain": [
       "               T         dof alternative     p-val          CI95%   cohen-d  \\\n",
       "T-test  3.427872  164.481086     greater  0.000384  [279.33, inf]  0.508574   \n",
       "\n",
       "          BF10     power  \n",
       "T-test  68.008  0.966129  "
      ]
     },
     "execution_count": 117,
     "metadata": {},
     "output_type": "execute_result"
    }
   ],
   "source": [
    "test_results = pingouin.ttest(x=no_ulcer, y=people_with_ulcer, paired=False, alternative= \"greater\")\n",
    "test_results"
   ]
  },
  {
   "cell_type": "markdown",
   "id": "20baf301",
   "metadata": {},
   "source": [
    "### Observation\n",
    "\n",
    "\n",
    "\n",
    "\n",
    "\n",
    "* Alpha is greater than the p_value. Thus we can reject the null hypothesis to conclude that \n",
    "\n",
    "  the survival rate for people without ulceration is higher than those with ulceration\n"
   ]
  },
  {
   "cell_type": "markdown",
   "id": "562481e9",
   "metadata": {},
   "source": [
    "## Analysis for checking if thickness affects status using cross tabulation chi square\n",
    "   \n",
    "Defining the null and alternative hypothesis\n",
    "\n",
    "**null hypothesis**: thickness does not affect status of patients\n",
    "    and people with ulceration\n",
    "    \n",
    "**alternative**: Thickness affects the status of patients in determining whether they will survive after the surgery\n",
    "    \n",
    "    \n",
    "    Alpha = 0.05"
   ]
  },
  {
   "cell_type": "code",
   "execution_count": 109,
   "id": "db23b7c2",
   "metadata": {},
   "outputs": [
    {
     "data": {
      "text/plain": [
       "<function matplotlib.pyplot.show(close=None, block=None)>"
      ]
     },
     "execution_count": 109,
     "metadata": {},
     "output_type": "execute_result"
    },
    {
     "data": {
      "image/png": "[encoded data removed]",
      "text/plain": [
       "<Figure size 640x480 with 1 Axes>"
      ]
     },
     "metadata": {},
     "output_type": "display_data"
    }
   ],
   "source": [
    "#thickness and status\n",
    "\n",
    "#check if thickness affects status...cross tabulation chi square\n",
    "\n",
    "sns.barplot(x= \"status\", y=\"thickness\", data=melanoma, errorbar=None)\n",
    "plt.show"
   ]
  },
  {
   "cell_type": "code",
   "execution_count": 128,
   "id": "f0e42b06",
   "metadata": {},
   "outputs": [
    {
     "data": {
      "text/html": [
       "<div>\n",
       "<style scoped>\n",
       "    .dataframe tbody tr th:only-of-type {\n",
       "        vertical-align: middle;\n",
       "    }\n",
       "\n",
       "    .dataframe tbody tr th {\n",
       "        vertical-align: top;\n",
       "    }\n",
       "\n",
       "    .dataframe thead th {\n",
       "        text-align: right;\n",
       "    }\n",
       "</style>\n",
       "<table border=\"1\" class=\"dataframe\">\n",
       "  <thead>\n",
       "    <tr style=\"text-align: right;\">\n",
       "      <th>status</th>\n",
       "      <th>1</th>\n",
       "      <th>2</th>\n",
       "      <th>3</th>\n",
       "    </tr>\n",
       "    <tr>\n",
       "      <th>thickness</th>\n",
       "      <th></th>\n",
       "      <th></th>\n",
       "      <th></th>\n",
       "    </tr>\n",
       "  </thead>\n",
       "  <tbody>\n",
       "    <tr>\n",
       "      <th>0.10</th>\n",
       "      <td>0</td>\n",
       "      <td>1</td>\n",
       "      <td>0</td>\n",
       "    </tr>\n",
       "    <tr>\n",
       "      <th>0.16</th>\n",
       "      <td>0</td>\n",
       "      <td>6</td>\n",
       "      <td>1</td>\n",
       "    </tr>\n",
       "    <tr>\n",
       "      <th>0.24</th>\n",
       "      <td>0</td>\n",
       "      <td>1</td>\n",
       "      <td>0</td>\n",
       "    </tr>\n",
       "    <tr>\n",
       "      <th>0.32</th>\n",
       "      <td>1</td>\n",
       "      <td>5</td>\n",
       "      <td>0</td>\n",
       "    </tr>\n",
       "    <tr>\n",
       "      <th>0.48</th>\n",
       "      <td>0</td>\n",
       "      <td>4</td>\n",
       "      <td>0</td>\n",
       "    </tr>\n",
       "    <tr>\n",
       "      <th>...</th>\n",
       "      <td>...</td>\n",
       "      <td>...</td>\n",
       "      <td>...</td>\n",
       "    </tr>\n",
       "    <tr>\n",
       "      <th>12.56</th>\n",
       "      <td>0</td>\n",
       "      <td>0</td>\n",
       "      <td>1</td>\n",
       "    </tr>\n",
       "    <tr>\n",
       "      <th>12.88</th>\n",
       "      <td>1</td>\n",
       "      <td>1</td>\n",
       "      <td>0</td>\n",
       "    </tr>\n",
       "    <tr>\n",
       "      <th>13.85</th>\n",
       "      <td>1</td>\n",
       "      <td>0</td>\n",
       "      <td>0</td>\n",
       "    </tr>\n",
       "    <tr>\n",
       "      <th>14.66</th>\n",
       "      <td>1</td>\n",
       "      <td>0</td>\n",
       "      <td>0</td>\n",
       "    </tr>\n",
       "    <tr>\n",
       "      <th>17.42</th>\n",
       "      <td>1</td>\n",
       "      <td>0</td>\n",
       "      <td>0</td>\n",
       "    </tr>\n",
       "  </tbody>\n",
       "</table>\n",
       "<p>64 rows × 3 columns</p>\n",
       "</div>"
      ],
      "text/plain": [
       "status     1  2  3\n",
       "thickness         \n",
       "0.10       0  1  0\n",
       "0.16       0  6  1\n",
       "0.24       0  1  0\n",
       "0.32       1  5  0\n",
       "0.48       0  4  0\n",
       "...       .. .. ..\n",
       "12.56      0  0  1\n",
       "12.88      1  1  0\n",
       "13.85      1  0  0\n",
       "14.66      1  0  0\n",
       "17.42      1  0  0\n",
       "\n",
       "[64 rows x 3 columns]"
      ]
     },
     "execution_count": 128,
     "metadata": {},
     "output_type": "execute_result"
    }
   ],
   "source": [
    "thickness_status_tabulation = pd.crosstab(index= melanoma['thickness'],columns=melanoma['status'])\n",
    "thickness_status_tabulation\n",
    "\n",
    "\n",
    "\n"
   ]
  },
  {
   "cell_type": "code",
   "execution_count": 129,
   "id": "924f97d8",
   "metadata": {},
   "outputs": [
    {
     "data": {
      "text/plain": [
       "Chi2ContingencyResult(statistic=156.7847944654069, pvalue=0.03275068834723104, dof=126, expected_freq=array([[ 0.27804878,  0.65365854,  0.06829268],\n",
       "       [ 1.94634146,  4.57560976,  0.47804878],\n",
       "       [ 0.27804878,  0.65365854,  0.06829268],\n",
       "       [ 1.66829268,  3.92195122,  0.4097561 ],\n",
       "       [ 1.11219512,  2.61463415,  0.27317073],\n",
       "       [ 0.27804878,  0.65365854,  0.06829268],\n",
       "       [ 1.11219512,  2.61463415,  0.27317073],\n",
       "       [ 2.7804878 ,  6.53658537,  0.68292683],\n",
       "       [ 3.05853659,  7.1902439 ,  0.75121951],\n",
       "       [ 3.05853659,  7.1902439 ,  0.75121951],\n",
       "       [ 0.27804878,  0.65365854,  0.06829268],\n",
       "       [ 1.11219512,  2.61463415,  0.27317073],\n",
       "       [ 4.44878049, 10.45853659,  1.09268293],\n",
       "       [ 0.55609756,  1.30731707,  0.13658537],\n",
       "       [ 0.27804878,  0.65365854,  0.06829268],\n",
       "       [ 0.83414634,  1.96097561,  0.20487805],\n",
       "       [ 0.27804878,  0.65365854,  0.06829268],\n",
       "       [ 3.33658537,  7.84390244,  0.8195122 ],\n",
       "       [ 0.27804878,  0.65365854,  0.06829268],\n",
       "       [ 0.55609756,  1.30731707,  0.13658537],\n",
       "       [ 2.7804878 ,  6.53658537,  0.68292683],\n",
       "       [ 0.83414634,  1.96097561,  0.20487805],\n",
       "       [ 0.27804878,  0.65365854,  0.06829268],\n",
       "       [ 1.3902439 ,  3.26829268,  0.34146341],\n",
       "       [ 0.27804878,  0.65365854,  0.06829268],\n",
       "       [ 0.27804878,  0.65365854,  0.06829268],\n",
       "       [ 2.50243902,  5.88292683,  0.61463415],\n",
       "       [ 0.27804878,  0.65365854,  0.06829268],\n",
       "       [ 0.83414634,  1.96097561,  0.20487805],\n",
       "       [ 0.55609756,  1.30731707,  0.13658537],\n",
       "       [ 2.7804878 ,  6.53658537,  0.68292683],\n",
       "       [ 2.22439024,  5.22926829,  0.54634146],\n",
       "       [ 0.27804878,  0.65365854,  0.06829268],\n",
       "       [ 1.66829268,  3.92195122,  0.4097561 ],\n",
       "       [ 0.27804878,  0.65365854,  0.06829268],\n",
       "       [ 0.27804878,  0.65365854,  0.06829268],\n",
       "       [ 0.55609756,  1.30731707,  0.13658537],\n",
       "       [ 0.27804878,  0.65365854,  0.06829268],\n",
       "       [ 0.27804878,  0.65365854,  0.06829268],\n",
       "       [ 0.55609756,  1.30731707,  0.13658537],\n",
       "       [ 1.3902439 ,  3.26829268,  0.34146341],\n",
       "       [ 0.83414634,  1.96097561,  0.20487805],\n",
       "       [ 0.55609756,  1.30731707,  0.13658537],\n",
       "       [ 0.27804878,  0.65365854,  0.06829268],\n",
       "       [ 0.55609756,  1.30731707,  0.13658537],\n",
       "       [ 0.55609756,  1.30731707,  0.13658537],\n",
       "       [ 0.27804878,  0.65365854,  0.06829268],\n",
       "       [ 0.27804878,  0.65365854,  0.06829268],\n",
       "       [ 0.55609756,  1.30731707,  0.13658537],\n",
       "       [ 0.55609756,  1.30731707,  0.13658537],\n",
       "       [ 0.27804878,  0.65365854,  0.06829268],\n",
       "       [ 0.55609756,  1.30731707,  0.13658537],\n",
       "       [ 0.27804878,  0.65365854,  0.06829268],\n",
       "       [ 0.27804878,  0.65365854,  0.06829268],\n",
       "       [ 0.27804878,  0.65365854,  0.06829268],\n",
       "       [ 0.27804878,  0.65365854,  0.06829268],\n",
       "       [ 0.27804878,  0.65365854,  0.06829268],\n",
       "       [ 0.27804878,  0.65365854,  0.06829268],\n",
       "       [ 0.27804878,  0.65365854,  0.06829268],\n",
       "       [ 0.27804878,  0.65365854,  0.06829268],\n",
       "       [ 0.55609756,  1.30731707,  0.13658537],\n",
       "       [ 0.27804878,  0.65365854,  0.06829268],\n",
       "       [ 0.27804878,  0.65365854,  0.06829268],\n",
       "       [ 0.27804878,  0.65365854,  0.06829268]]))"
      ]
     },
     "execution_count": 129,
     "metadata": {},
     "output_type": "execute_result"
    }
   ],
   "source": [
    "stats.chi2_contingency(thickness_status_tabulation)"
   ]
  },
  {
   "cell_type": "code",
   "execution_count": 131,
   "id": "96186ef9",
   "metadata": {},
   "outputs": [
    {
     "name": "stdout",
     "output_type": "stream",
     "text": [
      "chi2 : 156.7847944654069\n",
      "\n",
      "p_value: 0.03275068834723104\n",
      "\n",
      "Degree of freedom: 126\n",
      "\n",
      "Expected frequency: [[ 0.27804878  0.65365854  0.06829268]\n",
      " [ 1.94634146  4.57560976  0.47804878]\n",
      " [ 0.27804878  0.65365854  0.06829268]\n",
      " [ 1.66829268  3.92195122  0.4097561 ]\n",
      " [ 1.11219512  2.61463415  0.27317073]\n",
      " [ 0.27804878  0.65365854  0.06829268]\n",
      " [ 1.11219512  2.61463415  0.27317073]\n",
      " [ 2.7804878   6.53658537  0.68292683]\n",
      " [ 3.05853659  7.1902439   0.75121951]\n",
      " [ 3.05853659  7.1902439   0.75121951]\n",
      " [ 0.27804878  0.65365854  0.06829268]\n",
      " [ 1.11219512  2.61463415  0.27317073]\n",
      " [ 4.44878049 10.45853659  1.09268293]\n",
      " [ 0.55609756  1.30731707  0.13658537]\n",
      " [ 0.27804878  0.65365854  0.06829268]\n",
      " [ 0.83414634  1.96097561  0.20487805]\n",
      " [ 0.27804878  0.65365854  0.06829268]\n",
      " [ 3.33658537  7.84390244  0.8195122 ]\n",
      " [ 0.27804878  0.65365854  0.06829268]\n",
      " [ 0.55609756  1.30731707  0.13658537]\n",
      " [ 2.7804878   6.53658537  0.68292683]\n",
      " [ 0.83414634  1.96097561  0.20487805]\n",
      " [ 0.27804878  0.65365854  0.06829268]\n",
      " [ 1.3902439   3.26829268  0.34146341]\n",
      " [ 0.27804878  0.65365854  0.06829268]\n",
      " [ 0.27804878  0.65365854  0.06829268]\n",
      " [ 2.50243902  5.88292683  0.61463415]\n",
      " [ 0.27804878  0.65365854  0.06829268]\n",
      " [ 0.83414634  1.96097561  0.20487805]\n",
      " [ 0.55609756  1.30731707  0.13658537]\n",
      " [ 2.7804878   6.53658537  0.68292683]\n",
      " [ 2.22439024  5.22926829  0.54634146]\n",
      " [ 0.27804878  0.65365854  0.06829268]\n",
      " [ 1.66829268  3.92195122  0.4097561 ]\n",
      " [ 0.27804878  0.65365854  0.06829268]\n",
      " [ 0.27804878  0.65365854  0.06829268]\n",
      " [ 0.55609756  1.30731707  0.13658537]\n",
      " [ 0.27804878  0.65365854  0.06829268]\n",
      " [ 0.27804878  0.65365854  0.06829268]\n",
      " [ 0.55609756  1.30731707  0.13658537]\n",
      " [ 1.3902439   3.26829268  0.34146341]\n",
      " [ 0.83414634  1.96097561  0.20487805]\n",
      " [ 0.55609756  1.30731707  0.13658537]\n",
      " [ 0.27804878  0.65365854  0.06829268]\n",
      " [ 0.55609756  1.30731707  0.13658537]\n",
      " [ 0.55609756  1.30731707  0.13658537]\n",
      " [ 0.27804878  0.65365854  0.06829268]\n",
      " [ 0.27804878  0.65365854  0.06829268]\n",
      " [ 0.55609756  1.30731707  0.13658537]\n",
      " [ 0.55609756  1.30731707  0.13658537]\n",
      " [ 0.27804878  0.65365854  0.06829268]\n",
      " [ 0.55609756  1.30731707  0.13658537]\n",
      " [ 0.27804878  0.65365854  0.06829268]\n",
      " [ 0.27804878  0.65365854  0.06829268]\n",
      " [ 0.27804878  0.65365854  0.06829268]\n",
      " [ 0.27804878  0.65365854  0.06829268]\n",
      " [ 0.27804878  0.65365854  0.06829268]\n",
      " [ 0.27804878  0.65365854  0.06829268]\n",
      " [ 0.27804878  0.65365854  0.06829268]\n",
      " [ 0.27804878  0.65365854  0.06829268]\n",
      " [ 0.55609756  1.30731707  0.13658537]\n",
      " [ 0.27804878  0.65365854  0.06829268]\n",
      " [ 0.27804878  0.65365854  0.06829268]\n",
      " [ 0.27804878  0.65365854  0.06829268]]\n"
     ]
    }
   ],
   "source": [
    "chi2,p,dof,exp = stats.chi2_contingency(thickness_status_tabulation)\n",
    "print('chi2 :',chi2)\n",
    "print( )\n",
    "print('p_value:',p)\n",
    "print( )\n",
    "print('Degree of freedom:',dof)\n",
    "print( )\n",
    "print('Expected frequency:',exp)"
   ]
  },
  {
   "cell_type": "markdown",
   "id": "dc54be3c",
   "metadata": {},
   "source": [
    "### Observation\n",
    "* The p_value 0.03 is less than the alpha which is 0.05. Thus we reject the null hypothesis. \n",
    "  Which is to say that The thickness of the skin affects the status of the patient after surgery"
   ]
  },
  {
   "cell_type": "code",
   "execution_count": null,
   "id": "3e387208",
   "metadata": {},
   "outputs": [],
   "source": []
  },
  {
   "cell_type": "markdown",
   "id": "f20718b2",
   "metadata": {},
   "source": [
    "## Analysis for checking if Ulceration affects Status\n",
    "   \n",
    "Defining the null and alternative hypothesis\n",
    "\n",
    "**Null hypothesis**: Ulceration of the skin does not affect the status of patients after the surgery.\n",
    "\n",
    "**Alternative hypothesis**: Ulceration of the skin affects the status of the survival of the patients. \n",
    "    \n",
    "    \n",
    "    Alpha = 0.05"
   ]
  },
  {
   "cell_type": "code",
   "execution_count": 135,
   "id": "62ac293a",
   "metadata": {},
   "outputs": [
    {
     "data": {
      "text/plain": [
       "<function matplotlib.pyplot.show(close=None, block=None)>"
      ]
     },
     "execution_count": 135,
     "metadata": {},
     "output_type": "execute_result"
    },
    {
     "data": {
      "image/png": "[encoded data removed]",
      "text/plain": [
       "<Figure size 640x480 with 1 Axes>"
      ]
     },
     "metadata": {},
     "output_type": "display_data"
    }
   ],
   "source": [
    "#sns.barplot(x= \"status\", y=\"ulcer\", data=melanoma, errorbar=None)\n",
    "sns.countplot(x= \"ulcer\", hue=\"status\", data=melanoma,  color='red')\n",
    "plt.show"
   ]
  },
  {
   "cell_type": "code",
   "execution_count": 150,
   "id": "98611ea2",
   "metadata": {
    "scrolled": false
   },
   "outputs": [
    {
     "data": {
      "text/html": [
       "<div>\n",
       "<style scoped>\n",
       "    .dataframe tbody tr th:only-of-type {\n",
       "        vertical-align: middle;\n",
       "    }\n",
       "\n",
       "    .dataframe tbody tr th {\n",
       "        vertical-align: top;\n",
       "    }\n",
       "\n",
       "    .dataframe thead th {\n",
       "        text-align: right;\n",
       "    }\n",
       "</style>\n",
       "<table border=\"1\" class=\"dataframe\">\n",
       "  <thead>\n",
       "    <tr style=\"text-align: right;\">\n",
       "      <th>status</th>\n",
       "      <th>1</th>\n",
       "      <th>2</th>\n",
       "      <th>3</th>\n",
       "    </tr>\n",
       "    <tr>\n",
       "      <th>ulcer</th>\n",
       "      <th></th>\n",
       "      <th></th>\n",
       "      <th></th>\n",
       "    </tr>\n",
       "  </thead>\n",
       "  <tbody>\n",
       "    <tr>\n",
       "      <th>0</th>\n",
       "      <td>16</td>\n",
       "      <td>92</td>\n",
       "      <td>7</td>\n",
       "    </tr>\n",
       "    <tr>\n",
       "      <th>1</th>\n",
       "      <td>41</td>\n",
       "      <td>42</td>\n",
       "      <td>7</td>\n",
       "    </tr>\n",
       "  </tbody>\n",
       "</table>\n",
       "</div>"
      ],
      "text/plain": [
       "status   1   2  3\n",
       "ulcer            \n",
       "0       16  92  7\n",
       "1       41  42  7"
      ]
     },
     "execution_count": 150,
     "metadata": {},
     "output_type": "execute_result"
    }
   ],
   "source": [
    "ulceration_status = pd.crosstab(index= melanoma['ulcer'],columns=melanoma['status'])\n",
    "ulceration_status\n",
    "\n"
   ]
  },
  {
   "cell_type": "code",
   "execution_count": 151,
   "id": "4809ee73",
   "metadata": {},
   "outputs": [
    {
     "data": {
      "text/plain": [
       "Chi2ContingencyResult(statistic=26.97400835891734, pvalue=1.388892099355888e-06, dof=2, expected_freq=array([[31.97560976, 75.17073171,  7.85365854],\n",
       "       [25.02439024, 58.82926829,  6.14634146]]))"
      ]
     },
     "execution_count": 151,
     "metadata": {},
     "output_type": "execute_result"
    }
   ],
   "source": [
    "stats.chi2_contingency(ulceration_status)"
   ]
  },
  {
   "cell_type": "code",
   "execution_count": 152,
   "id": "520bcffe",
   "metadata": {
    "scrolled": true
   },
   "outputs": [
    {
     "name": "stdout",
     "output_type": "stream",
     "text": [
      "chi2 : 26.97400835891734\n",
      "\n",
      "p_value: 1.388892099355888e-06\n",
      "\n",
      "Degree of freedom: 2\n",
      "\n",
      "Expected frequency: [[31.97560976 75.17073171  7.85365854]\n",
      " [25.02439024 58.82926829  6.14634146]]\n"
     ]
    }
   ],
   "source": [
    "chi2,p,dof,exp = stats.chi2_contingency(ulceration_status)\n",
    "print('chi2 :',chi2)\n",
    "print( )\n",
    "print('p_value:',p)\n",
    "print( )\n",
    "print('Degree of freedom:',dof)\n",
    "print( )\n",
    "print('Expected frequency:',exp)"
   ]
  },
  {
   "cell_type": "markdown",
   "id": "e102f8fc",
   "metadata": {},
   "source": [
    "### Observations\n",
    "\n",
    "* P_Value 1.39 is greater than Alpha which is set at 0.05. We fail to reject null hypothesis.\n",
    "  We can then conclude that ulceration affects the survival rate of the patients after the surgery "
   ]
  },
  {
   "cell_type": "markdown",
   "id": "3975b0e8",
   "metadata": {},
   "source": [
    "## Analysis for checking if ulceration affect thickness\n",
    "   \n",
    "Defining the null hypothesis and alternative\n",
    "\n",
    "**Null hypothesis**: thickness does not affect status of patients\n",
    "    and people with ulceration\n",
    "    \n",
    "**Alternative hypothesis**: Thickness affects the status of patients in determining whether they will survive after the surgery\n",
    "    \n",
    "    \n",
    "    Alpha = 0.05"
   ]
  },
  {
   "cell_type": "code",
   "execution_count": 155,
   "id": "fad5c3ea",
   "metadata": {},
   "outputs": [
    {
     "data": {
      "image/png": "[encoded data removed]",
      "text/plain": [
       "<Figure size 640x480 with 1 Axes>"
      ]
     },
     "metadata": {},
     "output_type": "display_data"
    }
   ],
   "source": [
    "sns.barplot(x=\"ulcer\", y=\"thickness\", data=melanoma, errorbar=None, color=\"lightgreen\")\n",
    "plt.show()"
   ]
  },
  {
   "cell_type": "code",
   "execution_count": 231,
   "id": "b33cae8b",
   "metadata": {},
   "outputs": [
    {
     "data": {
      "text/html": [
       "<div>\n",
       "<style scoped>\n",
       "    .dataframe tbody tr th:only-of-type {\n",
       "        vertical-align: middle;\n",
       "    }\n",
       "\n",
       "    .dataframe tbody tr th {\n",
       "        vertical-align: top;\n",
       "    }\n",
       "\n",
       "    .dataframe thead th {\n",
       "        text-align: right;\n",
       "    }\n",
       "</style>\n",
       "<table border=\"1\" class=\"dataframe\">\n",
       "  <thead>\n",
       "    <tr style=\"text-align: right;\">\n",
       "      <th>thickness</th>\n",
       "      <th>0.10</th>\n",
       "      <th>0.16</th>\n",
       "      <th>0.24</th>\n",
       "      <th>0.32</th>\n",
       "      <th>0.48</th>\n",
       "      <th>0.58</th>\n",
       "      <th>0.64</th>\n",
       "      <th>0.65</th>\n",
       "      <th>0.81</th>\n",
       "      <th>0.97</th>\n",
       "      <th>...</th>\n",
       "      <th>8.38</th>\n",
       "      <th>8.54</th>\n",
       "      <th>9.66</th>\n",
       "      <th>12.08</th>\n",
       "      <th>12.24</th>\n",
       "      <th>12.56</th>\n",
       "      <th>12.88</th>\n",
       "      <th>13.85</th>\n",
       "      <th>14.66</th>\n",
       "      <th>17.42</th>\n",
       "    </tr>\n",
       "    <tr>\n",
       "      <th>ulcer</th>\n",
       "      <th></th>\n",
       "      <th></th>\n",
       "      <th></th>\n",
       "      <th></th>\n",
       "      <th></th>\n",
       "      <th></th>\n",
       "      <th></th>\n",
       "      <th></th>\n",
       "      <th></th>\n",
       "      <th></th>\n",
       "      <th></th>\n",
       "      <th></th>\n",
       "      <th></th>\n",
       "      <th></th>\n",
       "      <th></th>\n",
       "      <th></th>\n",
       "      <th></th>\n",
       "      <th></th>\n",
       "      <th></th>\n",
       "      <th></th>\n",
       "      <th></th>\n",
       "    </tr>\n",
       "  </thead>\n",
       "  <tbody>\n",
       "    <tr>\n",
       "      <th>0</th>\n",
       "      <td>1</td>\n",
       "      <td>6</td>\n",
       "      <td>1</td>\n",
       "      <td>5</td>\n",
       "      <td>4</td>\n",
       "      <td>1</td>\n",
       "      <td>4</td>\n",
       "      <td>10</td>\n",
       "      <td>9</td>\n",
       "      <td>10</td>\n",
       "      <td>...</td>\n",
       "      <td>0</td>\n",
       "      <td>0</td>\n",
       "      <td>1</td>\n",
       "      <td>0</td>\n",
       "      <td>0</td>\n",
       "      <td>0</td>\n",
       "      <td>1</td>\n",
       "      <td>0</td>\n",
       "      <td>1</td>\n",
       "      <td>0</td>\n",
       "    </tr>\n",
       "    <tr>\n",
       "      <th>1</th>\n",
       "      <td>0</td>\n",
       "      <td>1</td>\n",
       "      <td>0</td>\n",
       "      <td>1</td>\n",
       "      <td>0</td>\n",
       "      <td>0</td>\n",
       "      <td>0</td>\n",
       "      <td>0</td>\n",
       "      <td>2</td>\n",
       "      <td>1</td>\n",
       "      <td>...</td>\n",
       "      <td>1</td>\n",
       "      <td>1</td>\n",
       "      <td>0</td>\n",
       "      <td>1</td>\n",
       "      <td>1</td>\n",
       "      <td>1</td>\n",
       "      <td>1</td>\n",
       "      <td>1</td>\n",
       "      <td>0</td>\n",
       "      <td>1</td>\n",
       "    </tr>\n",
       "  </tbody>\n",
       "</table>\n",
       "<p>2 rows × 64 columns</p>\n",
       "</div>"
      ],
      "text/plain": [
       "thickness  0.10   0.16   0.24   0.32   0.48   0.58   0.64   0.65   0.81   \\\n",
       "ulcer                                                                      \n",
       "0              1      6      1      5      4      1      4     10      9   \n",
       "1              0      1      0      1      0      0      0      0      2   \n",
       "\n",
       "thickness  0.97   ...  8.38   8.54   9.66   12.08  12.24  12.56  12.88  13.85  \\\n",
       "ulcer             ...                                                           \n",
       "0             10  ...      0      0      1      0      0      0      1      0   \n",
       "1              1  ...      1      1      0      1      1      1      1      1   \n",
       "\n",
       "thickness  14.66  17.42  \n",
       "ulcer                    \n",
       "0              1      0  \n",
       "1              0      1  \n",
       "\n",
       "[2 rows x 64 columns]"
      ]
     },
     "execution_count": 231,
     "metadata": {},
     "output_type": "execute_result"
    }
   ],
   "source": [
    "ulceration_thickness=pd.crosstab(index= melanoma['ulcer'],columns=melanoma['thickness'])\n",
    "\n",
    "\n",
    "\n",
    "ulceration_thickness\n",
    "\n",
    "\n"
   ]
  },
  {
   "cell_type": "code",
   "execution_count": 230,
   "id": "2d3af5cc",
   "metadata": {},
   "outputs": [
    {
     "data": {
      "text/plain": [
       "Chi2ContingencyResult(statistic=107.75447635429518, pvalue=0.00038375535413033194, dof=63, expected_freq=array([[0.56097561, 3.92682927, 0.56097561, 3.36585366, 2.24390244,\n",
       "        0.56097561, 2.24390244, 5.6097561 , 6.17073171, 6.17073171,\n",
       "        0.56097561, 2.24390244, 8.97560976, 1.12195122, 0.56097561,\n",
       "        1.68292683, 0.56097561, 6.73170732, 0.56097561, 1.12195122,\n",
       "        5.6097561 , 1.68292683, 0.56097561, 2.80487805, 0.56097561,\n",
       "        0.56097561, 5.04878049, 0.56097561, 1.68292683, 1.12195122,\n",
       "        5.6097561 , 4.48780488, 0.56097561, 3.36585366, 0.56097561,\n",
       "        0.56097561, 1.12195122, 0.56097561, 0.56097561, 1.12195122,\n",
       "        2.80487805, 1.68292683, 1.12195122, 0.56097561, 1.12195122,\n",
       "        1.12195122, 0.56097561, 0.56097561, 1.12195122, 1.12195122,\n",
       "        0.56097561, 1.12195122, 0.56097561, 0.56097561, 0.56097561,\n",
       "        0.56097561, 0.56097561, 0.56097561, 0.56097561, 0.56097561,\n",
       "        1.12195122, 0.56097561, 0.56097561, 0.56097561],\n",
       "       [0.43902439, 3.07317073, 0.43902439, 2.63414634, 1.75609756,\n",
       "        0.43902439, 1.75609756, 4.3902439 , 4.82926829, 4.82926829,\n",
       "        0.43902439, 1.75609756, 7.02439024, 0.87804878, 0.43902439,\n",
       "        1.31707317, 0.43902439, 5.26829268, 0.43902439, 0.87804878,\n",
       "        4.3902439 , 1.31707317, 0.43902439, 2.19512195, 0.43902439,\n",
       "        0.43902439, 3.95121951, 0.43902439, 1.31707317, 0.87804878,\n",
       "        4.3902439 , 3.51219512, 0.43902439, 2.63414634, 0.43902439,\n",
       "        0.43902439, 0.87804878, 0.43902439, 0.43902439, 0.87804878,\n",
       "        2.19512195, 1.31707317, 0.87804878, 0.43902439, 0.87804878,\n",
       "        0.87804878, 0.43902439, 0.43902439, 0.87804878, 0.87804878,\n",
       "        0.43902439, 0.87804878, 0.43902439, 0.43902439, 0.43902439,\n",
       "        0.43902439, 0.43902439, 0.43902439, 0.43902439, 0.43902439,\n",
       "        0.87804878, 0.43902439, 0.43902439, 0.43902439]]))"
      ]
     },
     "execution_count": 230,
     "metadata": {},
     "output_type": "execute_result"
    }
   ],
   "source": [
    "stats.chi2_contingency(ulceration_thickness)"
   ]
  },
  {
   "cell_type": "code",
   "execution_count": 228,
   "id": "bfe5a57a",
   "metadata": {},
   "outputs": [
    {
     "name": "stdout",
     "output_type": "stream",
     "text": [
      "chi2 : 107.75447635429518\n",
      "\n",
      "p_value: 0.00038375535413033194\n",
      "\n",
      "Degree of freedom: 63\n",
      "\n",
      "Expected frequency: [[0.56097561 3.92682927 0.56097561 3.36585366 2.24390244 0.56097561\n",
      "  2.24390244 5.6097561  6.17073171 6.17073171 0.56097561 2.24390244\n",
      "  8.97560976 1.12195122 0.56097561 1.68292683 0.56097561 6.73170732\n",
      "  0.56097561 1.12195122 5.6097561  1.68292683 0.56097561 2.80487805\n",
      "  0.56097561 0.56097561 5.04878049 0.56097561 1.68292683 1.12195122\n",
      "  5.6097561  4.48780488 0.56097561 3.36585366 0.56097561 0.56097561\n",
      "  1.12195122 0.56097561 0.56097561 1.12195122 2.80487805 1.68292683\n",
      "  1.12195122 0.56097561 1.12195122 1.12195122 0.56097561 0.56097561\n",
      "  1.12195122 1.12195122 0.56097561 1.12195122 0.56097561 0.56097561\n",
      "  0.56097561 0.56097561 0.56097561 0.56097561 0.56097561 0.56097561\n",
      "  1.12195122 0.56097561 0.56097561 0.56097561]\n",
      " [0.43902439 3.07317073 0.43902439 2.63414634 1.75609756 0.43902439\n",
      "  1.75609756 4.3902439  4.82926829 4.82926829 0.43902439 1.75609756\n",
      "  7.02439024 0.87804878 0.43902439 1.31707317 0.43902439 5.26829268\n",
      "  0.43902439 0.87804878 4.3902439  1.31707317 0.43902439 2.19512195\n",
      "  0.43902439 0.43902439 3.95121951 0.43902439 1.31707317 0.87804878\n",
      "  4.3902439  3.51219512 0.43902439 2.63414634 0.43902439 0.43902439\n",
      "  0.87804878 0.43902439 0.43902439 0.87804878 2.19512195 1.31707317\n",
      "  0.87804878 0.43902439 0.87804878 0.87804878 0.43902439 0.43902439\n",
      "  0.87804878 0.87804878 0.43902439 0.87804878 0.43902439 0.43902439\n",
      "  0.43902439 0.43902439 0.43902439 0.43902439 0.43902439 0.43902439\n",
      "  0.87804878 0.43902439 0.43902439 0.43902439]]\n"
     ]
    }
   ],
   "source": [
    "chi2,p,dof,exp = stats.chi2_contingency(ulceration_thickness)\n",
    "\n",
    "print('chi2 :',chi2)\n",
    "print( )\n",
    "print('p_value:',p)\n",
    "print( )\n",
    "print('Degree of freedom:',dof)\n",
    "print( )\n",
    "print('Expected frequency:',exp)"
   ]
  },
  {
   "cell_type": "markdown",
   "id": "9e7cb4c1",
   "metadata": {},
   "source": [
    "### Observations\n",
    "\n",
    "* P_Value 0.00038 is less than Alpha which is set at 0.05. We reject null hypothesis.\n",
    "  We can then conclude that ulceration affects the the thickness of the skin of the patients after the surgery "
   ]
  },
  {
   "cell_type": "markdown",
   "id": "a8556da2",
   "metadata": {},
   "source": [
    "## Analysis for checking if Gender affect Thickness\n",
    "   \n",
    "Defining the null and alternative hypothesis\n",
    "\n",
    "**Null hypothesis**: Gender does not affect the Thickness of patients\n",
    "\n",
    "**Alternative hypothesis**: Gender affects the thickness\n",
    "    \n",
    "    \n",
    "    Alpha = 0.05"
   ]
  },
  {
   "cell_type": "code",
   "execution_count": 173,
   "id": "3b63011d",
   "metadata": {
    "scrolled": false
   },
   "outputs": [
    {
     "data": {
      "text/plain": [
       "<function matplotlib.pyplot.show(close=None, block=None)>"
      ]
     },
     "execution_count": 173,
     "metadata": {},
     "output_type": "execute_result"
    },
    {
     "data": {
      "image/png": "[encoded data removed]",
      "text/plain": [
       "<Figure size 640x480 with 1 Axes>"
      ]
     },
     "metadata": {},
     "output_type": "display_data"
    }
   ],
   "source": [
    "#check if gender affects thickness \n",
    "\n",
    "sns.barplot(x= \"sex\", y=\"thickness\", data=melanoma, errorbar=None, color =\"teal\")\n",
    "plt.show\n"
   ]
  },
  {
   "cell_type": "code",
   "execution_count": 237,
   "id": "2e5b9cf6",
   "metadata": {},
   "outputs": [
    {
     "data": {
      "text/html": [
       "<div>\n",
       "<style scoped>\n",
       "    .dataframe tbody tr th:only-of-type {\n",
       "        vertical-align: middle;\n",
       "    }\n",
       "\n",
       "    .dataframe tbody tr th {\n",
       "        vertical-align: top;\n",
       "    }\n",
       "\n",
       "    .dataframe thead th {\n",
       "        text-align: right;\n",
       "    }\n",
       "</style>\n",
       "<table border=\"1\" class=\"dataframe\">\n",
       "  <thead>\n",
       "    <tr style=\"text-align: right;\">\n",
       "      <th></th>\n",
       "      <th>time</th>\n",
       "      <th>status</th>\n",
       "      <th>sex</th>\n",
       "      <th>age</th>\n",
       "      <th>year</th>\n",
       "      <th>thickness</th>\n",
       "      <th>ulcer</th>\n",
       "      <th>new_thickness</th>\n",
       "    </tr>\n",
       "  </thead>\n",
       "  <tbody>\n",
       "    <tr>\n",
       "      <th>0</th>\n",
       "      <td>10</td>\n",
       "      <td>3</td>\n",
       "      <td>1</td>\n",
       "      <td>76</td>\n",
       "      <td>1972</td>\n",
       "      <td>6.76</td>\n",
       "      <td>1</td>\n",
       "      <td>Thick</td>\n",
       "    </tr>\n",
       "    <tr>\n",
       "      <th>1</th>\n",
       "      <td>30</td>\n",
       "      <td>3</td>\n",
       "      <td>1</td>\n",
       "      <td>56</td>\n",
       "      <td>1968</td>\n",
       "      <td>0.65</td>\n",
       "      <td>0</td>\n",
       "      <td>Thin</td>\n",
       "    </tr>\n",
       "    <tr>\n",
       "      <th>2</th>\n",
       "      <td>35</td>\n",
       "      <td>2</td>\n",
       "      <td>1</td>\n",
       "      <td>41</td>\n",
       "      <td>1977</td>\n",
       "      <td>1.34</td>\n",
       "      <td>0</td>\n",
       "      <td>Medium</td>\n",
       "    </tr>\n",
       "    <tr>\n",
       "      <th>3</th>\n",
       "      <td>99</td>\n",
       "      <td>3</td>\n",
       "      <td>0</td>\n",
       "      <td>71</td>\n",
       "      <td>1968</td>\n",
       "      <td>2.90</td>\n",
       "      <td>0</td>\n",
       "      <td>Medium</td>\n",
       "    </tr>\n",
       "    <tr>\n",
       "      <th>4</th>\n",
       "      <td>185</td>\n",
       "      <td>1</td>\n",
       "      <td>1</td>\n",
       "      <td>52</td>\n",
       "      <td>1965</td>\n",
       "      <td>12.08</td>\n",
       "      <td>1</td>\n",
       "      <td>Thick</td>\n",
       "    </tr>\n",
       "  </tbody>\n",
       "</table>\n",
       "</div>"
      ],
      "text/plain": [
       "   time status sex  age  year  thickness ulcer new_thickness\n",
       "0    10      3   1   76  1972       6.76     1         Thick\n",
       "1    30      3   1   56  1968       0.65     0          Thin\n",
       "2    35      2   1   41  1977       1.34     0        Medium\n",
       "3    99      3   0   71  1968       2.90     0        Medium\n",
       "4   185      1   1   52  1965      12.08     1         Thick"
      ]
     },
     "execution_count": 237,
     "metadata": {},
     "output_type": "execute_result"
    }
   ],
   "source": [
    "thin_condition = (melanoma[\"thickness\"] < 1)\n",
    "medium_condition = (melanoma[\"thickness\"] >= 1) & (melanoma[\"thickness\"] <= 4)\n",
    "thick_condition = (melanoma[\"thickness\"] > 4)\n",
    "\n",
    "\n",
    "melanoma[\"new_thickness\"] = np.select([thin_condition, medium_condition, thick_condition],\n",
    "                                       [\"Thin\", \"Medium\", \"Thick\"], default=\"\")\n",
    "\n",
    "melanoma.head()"
   ]
  },
  {
   "cell_type": "code",
   "execution_count": 232,
   "id": "5db32b6f",
   "metadata": {},
   "outputs": [
    {
     "data": {
      "text/html": [
       "<div>\n",
       "<style scoped>\n",
       "    .dataframe tbody tr th:only-of-type {\n",
       "        vertical-align: middle;\n",
       "    }\n",
       "\n",
       "    .dataframe tbody tr th {\n",
       "        vertical-align: top;\n",
       "    }\n",
       "\n",
       "    .dataframe thead th {\n",
       "        text-align: right;\n",
       "    }\n",
       "</style>\n",
       "<table border=\"1\" class=\"dataframe\">\n",
       "  <thead>\n",
       "    <tr style=\"text-align: right;\">\n",
       "      <th>new_thickness</th>\n",
       "      <th>Medium</th>\n",
       "      <th>Thick</th>\n",
       "      <th>Thin</th>\n",
       "    </tr>\n",
       "    <tr>\n",
       "      <th>sex</th>\n",
       "      <th></th>\n",
       "      <th></th>\n",
       "      <th></th>\n",
       "    </tr>\n",
       "  </thead>\n",
       "  <tbody>\n",
       "    <tr>\n",
       "      <th>0</th>\n",
       "      <td>75</td>\n",
       "      <td>15</td>\n",
       "      <td>36</td>\n",
       "    </tr>\n",
       "    <tr>\n",
       "      <th>1</th>\n",
       "      <td>29</td>\n",
       "      <td>30</td>\n",
       "      <td>20</td>\n",
       "    </tr>\n",
       "  </tbody>\n",
       "</table>\n",
       "</div>"
      ],
      "text/plain": [
       "new_thickness  Medium  Thick  Thin\n",
       "sex                               \n",
       "0                  75     15    36\n",
       "1                  29     30    20"
      ]
     },
     "execution_count": 232,
     "metadata": {},
     "output_type": "execute_result"
    }
   ],
   "source": [
    "gender_thickness=pd.crosstab(index= melanoma['sex'],columns=melanoma['new_thickness'])\n",
    "\n",
    "gender_thickness\n",
    "\n"
   ]
  },
  {
   "cell_type": "code",
   "execution_count": 233,
   "id": "d434790a",
   "metadata": {},
   "outputs": [
    {
     "name": "stdout",
     "output_type": "stream",
     "text": [
      "chi2 : 20.203973304674033\n",
      "\n",
      "p_value: 4.099802544338971e-05\n",
      "\n",
      "Degree of freedom: 2\n",
      "\n",
      "Expected frequency: [[63.92195122 27.65853659 34.4195122 ]\n",
      " [40.07804878 17.34146341 21.5804878 ]]\n"
     ]
    }
   ],
   "source": [
    "stats.chi2_contingency(gender_thickness)\n",
    "chi2,p,dof,exp = stats.chi2_contingency(gender_thickness)\n",
    "print('chi2 :',chi2)\n",
    "print( )\n",
    "print('p_value:',p)\n",
    "print( )\n",
    "print('Degree of freedom:',dof)\n",
    "print( )\n",
    "print('Expected frequency:',exp)"
   ]
  },
  {
   "cell_type": "markdown",
   "id": "06c51e73",
   "metadata": {},
   "source": [
    "### Observation\n",
    "\n",
    "* The P_value is 0.000004 which is less than the alpha which is also 0.05. \n",
    "  So we can firmly reject the null hypothesis. Which is to say that gender greatly affects the thickness of the skin."
   ]
  },
  {
   "cell_type": "code",
   "execution_count": null,
   "id": "99fe3f48",
   "metadata": {},
   "outputs": [],
   "source": []
  },
  {
   "cell_type": "code",
   "execution_count": null,
   "id": "b15a51ab",
   "metadata": {},
   "outputs": [],
   "source": []
  },
  {
   "cell_type": "markdown",
   "id": "f934d603",
   "metadata": {},
   "source": [
    "## Analysis for checking if Gender affect Survival Rate\n",
    "   \n",
    "Define your null hypothesis and alternative\n",
    "\n",
    "* Null hypothesis: Gender daffects the survival rate of patients\n",
    "* Alternative hypothesis: Gender does not affect the survival rate of patients\n",
    "    \n",
    "    \n",
    "    Alpha = 0.05"
   ]
  },
  {
   "cell_type": "code",
   "execution_count": 197,
   "id": "4484a83b",
   "metadata": {},
   "outputs": [
    {
     "data": {
      "image/png": "[encoded data removed]",
      "text/plain": [
       "<Figure size 640x480 with 1 Axes>"
      ]
     },
     "metadata": {},
     "output_type": "display_data"
    }
   ],
   "source": [
    "#check if gender affects average survival time\n",
    "\n",
    "sns.countplot(x=\"sex\", hue=\"status\", data=melanoma, color='k')\n",
    "\n",
    "plt.xlabel(\"Sex\")\n",
    "plt.ylabel(\"Count\")\n",
    "plt.legend(title=\"Status\")\n",
    "plt.show()\n",
    "\n"
   ]
  },
  {
   "cell_type": "code",
   "execution_count": 235,
   "id": "6c428041",
   "metadata": {},
   "outputs": [
    {
     "data": {
      "text/html": [
       "<div>\n",
       "<style scoped>\n",
       "    .dataframe tbody tr th:only-of-type {\n",
       "        vertical-align: middle;\n",
       "    }\n",
       "\n",
       "    .dataframe tbody tr th {\n",
       "        vertical-align: top;\n",
       "    }\n",
       "\n",
       "    .dataframe thead th {\n",
       "        text-align: right;\n",
       "    }\n",
       "</style>\n",
       "<table border=\"1\" class=\"dataframe\">\n",
       "  <thead>\n",
       "    <tr style=\"text-align: right;\">\n",
       "      <th>status</th>\n",
       "      <th>1</th>\n",
       "      <th>2</th>\n",
       "      <th>3</th>\n",
       "    </tr>\n",
       "    <tr>\n",
       "      <th>sex</th>\n",
       "      <th></th>\n",
       "      <th></th>\n",
       "      <th></th>\n",
       "    </tr>\n",
       "  </thead>\n",
       "  <tbody>\n",
       "    <tr>\n",
       "      <th>0</th>\n",
       "      <td>28</td>\n",
       "      <td>91</td>\n",
       "      <td>7</td>\n",
       "    </tr>\n",
       "    <tr>\n",
       "      <th>1</th>\n",
       "      <td>29</td>\n",
       "      <td>43</td>\n",
       "      <td>7</td>\n",
       "    </tr>\n",
       "  </tbody>\n",
       "</table>\n",
       "</div>"
      ],
      "text/plain": [
       "status   1   2  3\n",
       "sex              \n",
       "0       28  91  7\n",
       "1       29  43  7"
      ]
     },
     "execution_count": 235,
     "metadata": {},
     "output_type": "execute_result"
    }
   ],
   "source": [
    "# Perform chi-square test of independence\n",
    "gender_survivals=pd.crosstab(index= melanoma['sex'],columns=melanoma['status'])\n",
    "\n",
    "gender_survival\n"
   ]
  },
  {
   "cell_type": "code",
   "execution_count": 236,
   "id": "b959cdb8",
   "metadata": {},
   "outputs": [
    {
     "name": "stdout",
     "output_type": "stream",
     "text": [
      "chi2 : 6.793032579349164\n",
      "\n",
      "p_value: 0.033489735513817676\n",
      "\n",
      "Degree of freedom: 2\n",
      "\n",
      "Expected frequency: [[35.03414634 82.36097561  8.60487805]\n",
      " [21.96585366 51.63902439  5.39512195]]\n"
     ]
    }
   ],
   "source": [
    "stats.chi2_contingency(gender_survivals)\n",
    "chi2,p,dof,exp = stats.chi2_contingency(gender_survival)\n",
    "\n",
    "print('chi2 :',chi2)\n",
    "print( )\n",
    "print('p_value:',p)\n",
    "print( )\n",
    "print('Degree of freedom:',dof)\n",
    "print( )\n",
    "print('Expected frequency:',exp)"
   ]
  },
  {
   "cell_type": "markdown",
   "id": "43f26a4a",
   "metadata": {},
   "source": [
    "### Observation\n",
    "\n",
    "* The P_value0.033 is less than the alpha. We will reject the null hypothesis. This is to say that gender affects our survival rate but not so significantly."
   ]
  },
  {
   "cell_type": "code",
   "execution_count": 29,
   "id": "6ea76d60",
   "metadata": {},
   "outputs": [],
   "source": [
    "# melanoma[\"time\"]=melanoma[\"time\"].astype(int)\n",
    "melanoma[\"sex\"]=melanoma[\"sex\"].astype(int)\n",
    "melanoma[\"year\"]=melanoma[\"year\"].astype(int)\n",
    "melanoma[\"ulcer\"]=melanoma[\"ulcer\"].astype(int)"
   ]
  },
  {
   "cell_type": "code",
   "execution_count": 30,
   "id": "31cc8a32",
   "metadata": {},
   "outputs": [
    {
     "data": {
      "text/html": [
       "<div>\n",
       "<style scoped>\n",
       "    .dataframe tbody tr th:only-of-type {\n",
       "        vertical-align: middle;\n",
       "    }\n",
       "\n",
       "    .dataframe tbody tr th {\n",
       "        vertical-align: top;\n",
       "    }\n",
       "\n",
       "    .dataframe thead th {\n",
       "        text-align: right;\n",
       "    }\n",
       "</style>\n",
       "<table border=\"1\" class=\"dataframe\">\n",
       "  <thead>\n",
       "    <tr style=\"text-align: right;\">\n",
       "      <th></th>\n",
       "      <th>time</th>\n",
       "      <th>status</th>\n",
       "      <th>sex</th>\n",
       "      <th>age</th>\n",
       "      <th>year</th>\n",
       "      <th>thickness</th>\n",
       "      <th>ulcer</th>\n",
       "    </tr>\n",
       "  </thead>\n",
       "  <tbody>\n",
       "    <tr>\n",
       "      <th>0</th>\n",
       "      <td>10</td>\n",
       "      <td>3</td>\n",
       "      <td>1</td>\n",
       "      <td>76</td>\n",
       "      <td>1972</td>\n",
       "      <td>6.76</td>\n",
       "      <td>1</td>\n",
       "    </tr>\n",
       "    <tr>\n",
       "      <th>1</th>\n",
       "      <td>30</td>\n",
       "      <td>3</td>\n",
       "      <td>1</td>\n",
       "      <td>56</td>\n",
       "      <td>1968</td>\n",
       "      <td>0.65</td>\n",
       "      <td>0</td>\n",
       "    </tr>\n",
       "    <tr>\n",
       "      <th>2</th>\n",
       "      <td>35</td>\n",
       "      <td>2</td>\n",
       "      <td>1</td>\n",
       "      <td>41</td>\n",
       "      <td>1977</td>\n",
       "      <td>1.34</td>\n",
       "      <td>0</td>\n",
       "    </tr>\n",
       "    <tr>\n",
       "      <th>3</th>\n",
       "      <td>99</td>\n",
       "      <td>3</td>\n",
       "      <td>0</td>\n",
       "      <td>71</td>\n",
       "      <td>1968</td>\n",
       "      <td>2.90</td>\n",
       "      <td>0</td>\n",
       "    </tr>\n",
       "    <tr>\n",
       "      <th>4</th>\n",
       "      <td>185</td>\n",
       "      <td>1</td>\n",
       "      <td>1</td>\n",
       "      <td>52</td>\n",
       "      <td>1965</td>\n",
       "      <td>12.08</td>\n",
       "      <td>1</td>\n",
       "    </tr>\n",
       "  </tbody>\n",
       "</table>\n",
       "</div>"
      ],
      "text/plain": [
       "   time  status  sex  age  year  thickness  ulcer\n",
       "0    10       3    1   76  1972       6.76      1\n",
       "1    30       3    1   56  1968       0.65      0\n",
       "2    35       2    1   41  1977       1.34      0\n",
       "3    99       3    0   71  1968       2.90      0\n",
       "4   185       1    1   52  1965      12.08      1"
      ]
     },
     "execution_count": 30,
     "metadata": {},
     "output_type": "execute_result"
    }
   ],
   "source": [
    "melanoma.head()"
   ]
  },
  {
   "cell_type": "code",
   "execution_count": 31,
   "id": "0a3254d6",
   "metadata": {},
   "outputs": [
    {
     "data": {
      "text/plain": [
       "time           int32\n",
       "status         int32\n",
       "sex            int32\n",
       "age            int64\n",
       "year           int32\n",
       "thickness    float64\n",
       "ulcer          int32\n",
       "dtype: object"
      ]
     },
     "execution_count": 31,
     "metadata": {},
     "output_type": "execute_result"
    }
   ],
   "source": [
    "melanoma.dtypes"
   ]
  },
  {
   "cell_type": "markdown",
   "id": "f668a65a",
   "metadata": {},
   "source": [
    "### SURVIVAL RATE ANALYSIS"
   ]
  },
  {
   "cell_type": "code",
   "execution_count": 34,
   "id": "7db85b1e",
   "metadata": {},
   "outputs": [
    {
     "data": {
      "image/png": "[encoded data removed]",
      "text/plain": [
       "<Figure size 640x480 with 1 Axes>"
      ]
     },
     "metadata": {},
     "output_type": "display_data"
    },
    {
     "data": {
      "image/png": "[encoded data removed]",
      "text/plain": [
       "<Figure size 640x480 with 1 Axes>"
      ]
     },
     "metadata": {},
     "output_type": "display_data"
    },
    {
     "data": {
      "image/png": "[encoded data removed]",
      "text/plain": [
       "<Figure size 640x480 with 1 Axes>"
      ]
     },
     "metadata": {},
     "output_type": "display_data"
    }
   ],
   "source": [
    "from lifelines import KaplanMeierFitter\n",
    "\n",
    "# Initialize KaplanMeierFitter\n",
    "kmf = KaplanMeierFitter()\n",
    "\n",
    "# Stratify by sex\n",
    "male_data = melanoma[melanoma['sex'] == 1]\n",
    "female_data = melanoma[melanoma['sex'] == 0]\n",
    "\n",
    "# Fit Kaplan-Meier curves for each group\n",
    "kmf.fit(male_data['time'], event_observed=male_data['status'], label='Male')\n",
    "ax = kmf.plot()\n",
    "\n",
    "kmf.fit(female_data['time'], event_observed=female_data['status'], label='Female')\n",
    "ax = kmf.plot(ax=ax)\n",
    "\n",
    "# Add labels and title\n",
    "plt.xlabel('Time (days)')\n",
    "plt.ylabel('Survival Probability')\n",
    "# plt.title('Kaplan-Meier Curves Stratified by Sex')\n",
    "\n",
    "# Show the plot\n",
    "plt.show()\n",
    "\n",
    "# Stratify by ulceration status\n",
    "ulcerated_data = melanoma[melanoma['ulcer'] == 1]\n",
    "non_ulcerated_data = melanoma[melanoma['ulcer'] == 0]\n",
    "\n",
    "# Fit Kaplan-Meier curves for each group\n",
    "kmf.fit(ulcerated_data['time'], event_observed=ulcerated_data['status'], label='Ulcerated')\n",
    "ax = kmf.plot()\n",
    "\n",
    "kmf.fit(non_ulcerated_data['time'], event_observed=non_ulcerated_data['status'], label='Non-Ulcerated')\n",
    "ax = kmf.plot(ax=ax)\n",
    "\n",
    "# Add labels and title\n",
    "plt.xlabel('Time (days)')\n",
    "plt.ylabel('Survival Probability')\n",
    "# plt.title('Kaplan-Meier Curves Stratified by Ulceration Status')\n",
    "\n",
    "# Show the plot\n",
    "plt.show()\n",
    "\n",
    "# Stratify by tumor thickness (let's say thickness <= 1 mm vs. thickness > 1 mm)\n",
    "thin_tumor_data = melanoma[melanoma['thickness'] <= 1]\n",
    "thick_tumor_data = melanoma[melanoma['thickness'] > 1]\n",
    "\n",
    "# Fit Kaplan-Meier curves for each group\n",
    "kmf.fit(thin_tumor_data['time'], event_observed=thin_tumor_data['status'], label='Thin Tumor (<= 1 mm)')\n",
    "ax = kmf.plot()\n",
    "\n",
    "kmf.fit(thick_tumor_data['time'], event_observed=thick_tumor_data['status'], label='Thick Tumor (> 1 mm)')\n",
    "ax = kmf.plot(ax=ax)\n",
    "\n",
    "# Add labels and title\n",
    "plt.xlabel('Time (days)')\n",
    "plt.ylabel('Survival Probability')\n",
    "# plt.title('Kaplan-Meier Curves Stratified by Tumor Thickness')\n",
    "\n",
    "# Show the plot\n",
    "plt.show()\n"
   ]
  },
  {
   "cell_type": "code",
   "execution_count": 39,
   "id": "1eda0082",
   "metadata": {},
   "outputs": [
    {
     "name": "stdout",
     "output_type": "stream",
     "text": [
      "\r",
      "Iteration 1: norm_delta = 9.13e-01, step_size = 0.9500, log_lik = -889.79790, newton_decrement = 6.40e+01, seconds_since_start = 0.0\n",
      "\r",
      "Iteration 2: norm_delta = 4.50e-01, step_size = 0.9500, log_lik = -818.53289, newton_decrement = 7.77e+00, seconds_since_start = 0.0\n",
      "\r",
      "Iteration 3: norm_delta = 1.24e-01, step_size = 0.9500, log_lik = -810.04726, newton_decrement = 4.24e-01, seconds_since_start = 0.1\n",
      "\r",
      "Iteration 4: norm_delta = 6.55e-03, step_size = 1.0000, log_lik = -809.60974, newton_decrement = 1.08e-03, seconds_since_start = 0.1\n",
      "\r",
      "Iteration 5: norm_delta = 1.70e-05, step_size = 1.0000, log_lik = -809.60867, newton_decrement = 7.20e-09, seconds_since_start = 0.1\n",
      "Convergence success after 5 iterations.\n",
      "               coef  exp(coef)  se(coef)  coef lower 95%  coef upper 95%  \\\n",
      "covariate                                                                  \n",
      "sex        0.123689   1.131664  0.149497       -0.169320        0.416699   \n",
      "age        0.009659   1.009705  0.004994       -0.000129        0.019446   \n",
      "year       0.536935   1.710756  0.056485        0.426226        0.647644   \n",
      "thickness  0.051875   1.053244  0.028467       -0.003919        0.107669   \n",
      "ulcer      0.275419   1.317082  0.156801       -0.031905        0.582742   \n",
      "\n",
      "           exp(coef) lower 95%  exp(coef) upper 95%  cmp to         z  \\\n",
      "covariate                                                               \n",
      "sex                   0.844239             1.516946     0.0  0.827368   \n",
      "age                   0.999871             1.019636     0.0  1.934165   \n",
      "year                  1.531467             1.911034     0.0  9.505761   \n",
      "thickness             0.996088             1.113679     0.0  1.822282   \n",
      "ulcer                 0.968599             1.790943     0.0  1.756492   \n",
      "\n",
      "                      p   -log2(p)  \n",
      "covariate                           \n",
      "sex        4.080285e-01   1.293258  \n",
      "age        5.309279e-02   4.235340  \n",
      "year       1.985898e-21  68.770698  \n",
      "thickness  6.841215e-02   3.869604  \n",
      "ulcer      7.900443e-02   3.661923  \n"
     ]
    },
    {
     "data": {
      "text/plain": [
       "<Axes: xlabel='log(HR) (95% CI)'>"
      ]
     },
     "execution_count": 39,
     "metadata": {},
     "output_type": "execute_result"
    },
    {
     "data": {
      "image/png": "[encoded data removed]",
      "text/plain": [
       "<Figure size 640x480 with 1 Axes>"
      ]
     },
     "metadata": {},
     "output_type": "display_data"
    }
   ],
   "source": [
    "\n",
    "from lifelines import CoxPHFitter\n",
    "\n",
    "\n",
    "\n",
    "# # Initialize Cox proportional hazards regression model\n",
    "# cph = CoxPHFitter()\n",
    "\n",
    "# # Fit the model to the data\n",
    "# cph.fit(melanoma, duration_col='time', event_col='status', show_progress=True)\n",
    "\n",
    "# # Print the summary of the fitted model\n",
    "# print(cph.summary())\n",
    "\n",
    "# # Plot the coefficients\n",
    "# cph.plot()\n",
    "\n",
    "cph = CoxPHFitter()\n",
    "\n",
    "# Fit the model to the data\n",
    "cph.fit(melanoma, duration_col='time', event_col='status', show_progress=True)\n",
    "\n",
    "# Print the summary of the fitted model\n",
    "print(cph.summary)\n",
    "\n",
    "# Plot the coefficients\n",
    "cph.plot()\n",
    "\n"
   ]
  },
  {
   "cell_type": "markdown",
   "id": "a33305d2",
   "metadata": {},
   "source": [
    "### Observation\n",
    "\n",
    "The year of operation emerges as the most significant predictor of patient survival, indicating that temporal trends or advancements in treatment protocols over time may have influenced patient outcomes. While age, sex, tumor thickness, and ulceration status show some associations with survival, further investigation or consideration of additional factors may be necessary to fully understand their impact."
   ]
  },
  {
   "cell_type": "code",
   "execution_count": 40,
   "id": "7c9f1217",
   "metadata": {
    "collapsed": true
   },
   "outputs": [
    {
     "name": "stdout",
     "output_type": "stream",
     "text": [
      "Requirement already satisfied: lifelines in c:\\users\\agnes\\anaconda3\\lib\\site-packages (0.28.0)\n",
      "Requirement already satisfied: numpy<2.0,>=1.14.0 in c:\\users\\agnes\\anaconda3\\lib\\site-packages (from lifelines) (1.24.3)\n",
      "Requirement already satisfied: scipy>=1.2.0 in c:\\users\\agnes\\anaconda3\\lib\\site-packages (from lifelines) (1.11.1)\n",
      "Requirement already satisfied: pandas>=1.2.0 in c:\\users\\agnes\\anaconda3\\lib\\site-packages (from lifelines) (2.0.3)\n",
      "Requirement already satisfied: matplotlib>=3.0 in c:\\users\\agnes\\anaconda3\\lib\\site-packages (from lifelines) (3.7.2)\n",
      "Requirement already satisfied: autograd>=1.5 in c:\\users\\agnes\\anaconda3\\lib\\site-packages (from lifelines) (1.6.2)\n",
      "Requirement already satisfied: autograd-gamma>=0.3 in c:\\users\\agnes\\anaconda3\\lib\\site-packages (from lifelines) (0.5.0)\n",
      "Requirement already satisfied: formulaic>=0.2.2 in c:\\users\\agnes\\anaconda3\\lib\\site-packages (from lifelines) (1.0.1)\n",
      "Requirement already satisfied: future>=0.15.2 in c:\\users\\agnes\\anaconda3\\lib\\site-packages (from autograd>=1.5->lifelines) (0.18.3)\n",
      "Requirement already satisfied: interface-meta>=1.2.0 in c:\\users\\agnes\\anaconda3\\lib\\site-packages (from formulaic>=0.2.2->lifelines) (1.3.0)\n",
      "Requirement already satisfied: typing-extensions>=4.2.0 in c:\\users\\agnes\\anaconda3\\lib\\site-packages (from formulaic>=0.2.2->lifelines) (4.7.1)\n",
      "Requirement already satisfied: wrapt>=1.0 in c:\\users\\agnes\\anaconda3\\lib\\site-packages (from formulaic>=0.2.2->lifelines) (1.14.1)\n",
      "Requirement already satisfied: contourpy>=1.0.1 in c:\\users\\agnes\\anaconda3\\lib\\site-packages (from matplotlib>=3.0->lifelines) (1.0.5)\n",
      "Requirement already satisfied: cycler>=0.10 in c:\\users\\agnes\\anaconda3\\lib\\site-packages (from matplotlib>=3.0->lifelines) (0.11.0)\n",
      "Requirement already satisfied: fonttools>=4.22.0 in c:\\users\\agnes\\anaconda3\\lib\\site-packages (from matplotlib>=3.0->lifelines) (4.25.0)\n",
      "Requirement already satisfied: kiwisolver>=1.0.1 in c:\\users\\agnes\\anaconda3\\lib\\site-packages (from matplotlib>=3.0->lifelines) (1.4.4)\n",
      "Requirement already satisfied: packaging>=20.0 in c:\\users\\agnes\\anaconda3\\lib\\site-packages (from matplotlib>=3.0->lifelines) (23.1)\n",
      "Requirement already satisfied: pillow>=6.2.0 in c:\\users\\agnes\\anaconda3\\lib\\site-packages (from matplotlib>=3.0->lifelines) (9.4.0)\n",
      "Requirement already satisfied: pyparsing<3.1,>=2.3.1 in c:\\users\\agnes\\anaconda3\\lib\\site-packages (from matplotlib>=3.0->lifelines) (3.0.9)\n",
      "Requirement already satisfied: python-dateutil>=2.7 in c:\\users\\agnes\\anaconda3\\lib\\site-packages (from matplotlib>=3.0->lifelines) (2.8.2)\n",
      "Requirement already satisfied: pytz>=2020.1 in c:\\users\\agnes\\anaconda3\\lib\\site-packages (from pandas>=1.2.0->lifelines) (2023.3.post1)\n",
      "Requirement already satisfied: tzdata>=2022.1 in c:\\users\\agnes\\anaconda3\\lib\\site-packages (from pandas>=1.2.0->lifelines) (2023.3)\n",
      "Requirement already satisfied: six>=1.5 in c:\\users\\agnes\\anaconda3\\lib\\site-packages (from python-dateutil>=2.7->matplotlib>=3.0->lifelines) (1.16.0)\n"
     ]
    }
   ],
   "source": [
    "!pip install lifelines\n"
   ]
  },
  {
   "cell_type": "code",
   "execution_count": 57,
   "id": "e089db2e",
   "metadata": {},
   "outputs": [
    {
     "name": "stdout",
     "output_type": "stream",
     "text": [
      "p-value: 0.006077825044899579\n",
      "test statistic: 7.527082638586181\n"
     ]
    }
   ],
   "source": [
    "from lifelines.statistics import logrank_test\n",
    "\n",
    "\n",
    "# Assuming you have already loaded and preprocessed your data\n",
    "# Let's say you have a DataFrame named melanoma\n",
    "\n",
    "# Define the groups you want to compare\n",
    "group1 = melanoma[melanoma['ulcer'] == 0]  # Group without ulceration\n",
    "group2 = melanoma[melanoma['ulcer'] == 1]  # Group with ulceration\n",
    "\n",
    "# Perform log-rank test\n",
    "results = logrank_test(group1['time'], group2['time'], event_observed_A=group1['status'], event_observed_B=group2['status'])\n",
    "\n",
    "# Print the results\n",
    "print(\"p-value:\", results.p_value)\n",
    "print(\"test statistic:\", results.test_statistic)\n"
   ]
  },
  {
   "cell_type": "markdown",
   "id": "f08a5a91",
   "metadata": {},
   "source": [
    "### Observation\n",
    "The p-value we obtained (approximately 0.0061) indicates that there is a significant difference in survival between patients with ulcer and those without ulcer. The test statistic associated with this result is approximately 7.5271. This suggests that the difference in survival between these groups is relatively large.This indicates that ulceration status is associated with significant differences in survival among melanoma patients."
   ]
  },
  {
   "cell_type": "code",
   "execution_count": 58,
   "id": "b8454bb8",
   "metadata": {},
   "outputs": [
    {
     "name": "stdout",
     "output_type": "stream",
     "text": [
      "p-value for sex: 0.08349991939054366\n",
      "test statistic for sex: 2.9954265761673584\n"
     ]
    }
   ],
   "source": [
    "from lifelines.statistics import logrank_test\n",
    "\n",
    "# Assuming you have already loaded and preprocessed your data\n",
    "# Let's say you have a DataFrame named melanoma\n",
    "\n",
    "# Define the groups you want to compare\n",
    "female_group = melanoma[melanoma['sex'] == 0]  # Group for females\n",
    "male_group = melanoma[melanoma['sex'] == 1]    # Group for males\n",
    "\n",
    "# Perform log-rank test\n",
    "results_sex = logrank_test(female_group['time'], male_group['time'], event_observed_A=female_group['status'], event_observed_B=male_group['status'])\n",
    "\n",
    "# Print the results\n",
    "print(\"p-value for sex:\", results_sex.p_value)\n",
    "print(\"test statistic for sex:\", results_sex.test_statistic)\n"
   ]
  },
  {
   "cell_type": "markdown",
   "id": "7ddf6167",
   "metadata": {},
   "source": [
    "### Observation\n",
    "The p-value obtained (around 0.0835) suggests that there might be a difference in survival between females and males. However, this difference is not strong enough to be considered significant at the usual threshold of 0.05. So, while it's worth noting, we can't be confident that the difference we see isn't just due to chance. Further investigation or analysis might help us understand this difference better."
   ]
  },
  {
   "cell_type": "markdown",
   "id": "7007cb68",
   "metadata": {},
   "source": [
    "## Conclusion\n",
    "\n",
    "After conducting a comprehensive analysis of the melanoma dataset, several key findings have emerged regarding the impact of various factors on patient outcomes following surgery. These findings provide valuable insights into the prognosis and management of melanoma patients."
   ]
  },
  {
   "cell_type": "markdown",
   "id": "5bb21777",
   "metadata": {},
   "source": [
    "#### Gender and Skin Thickness:\n",
    "\n",
    "The analysis revealed a significant association between gender and the thickness of the skin surrounding the tumor. With a p-value of 0.000004, we firmly reject the null hypothesis, indicating that gender significantly influences skin thickness. \n",
    "\n",
    "#### Gender and Survival Rate:\n",
    "\n",
    "While gender was found to affect the survival rate of melanoma patients, the impact was not as pronounced as skin thickness. The p-value of 0.033 suggests a statistically significant but relatively moderate influence of gender on survival outcomes. Healthcare professionals should be aware of gender disparities in survival rates and tailor treatment strategies accordingly.\n",
    "\n",
    "#### Ulceration and Skin Thickness:\n",
    "\n",
    "Ulceration status was strongly associated with variations in skin thickness post-surgery. The p-value of 0.00038 indicates a clear rejection of the null hypothesis, highlighting the significant effect of ulceration on skin thickness. Monitoring and managing ulceration status may therefore be crucial in predicting post-operative outcomes and guiding treatment decisions.\n",
    "\n",
    "\n",
    "#### Ulceration and Survival Rate:\n",
    "\n",
    "Surprisingly, ulceration status did not demonstrate a statistically significant impact on patient survival rates. With a p-value of 1.39, we fail to reject the null hypothesis, suggesting that ulceration may not be a direct predictor of survival outcomes following surgery. However, further investigation into potential confounding factors or interactions is warranted to better understand this relationship.\n",
    "\n",
    "\n",
    "#### Skin Thickness and Patient Status:\n",
    "\n",
    "The analysis revealed a significant association between skin thickness and patient status post-surgery. With a p-value of 0.03, we reject the null hypothesis, indicating that thicker skin is correlated with adverse post-operative outcomes. This underscores the importance of thorough pre-operative assessment and close monitoring of patients with thicker skin to mitigate potential complications."
   ]
  },
  {
   "cell_type": "markdown",
   "id": "87b846fb",
   "metadata": {},
   "source": [
    "## Recomendation\n",
    "\n",
    "Based on the findings of this analysis, several recommendations can be made to improve clinical practice and patient care in the management of melanoma:"
   ]
  },
  {
   "cell_type": "markdown",
   "id": "70f0afaf",
   "metadata": {},
   "source": [
    "#### Personalized Treatment Plans: \n",
    "Healthcare providers should adopt a personalized approach to treatment planning, taking into account individual patient characteristics such as gender, ulceration status, and skin thickness.\n",
    "\n",
    "#### Regular Monitoring:\n",
    "Regular monitoring of ulceration status and skin thickness is essential for predicting post-operative outcomes and guiding treatment decisions. Close collaboration between dermatologists, surgeons, and oncologists is recommended to ensure comprehensive patient care.\n",
    "\n",
    "#### Patient Education:\n",
    "Patients should be educated about the significance of ulceration status and skin thickness in determining prognosis and treatment outcomes. Empowering patients with knowledge about their condition can facilitate shared decision-making and improve treatment adherence.\n",
    "\n",
    "#### Further Research:\n",
    "Continued research is needed to elucidate the complex relationships between gender, ulceration, skin thickness, and survival outcomes in melanoma patients. Longitudinal studies and multi-center collaborations can provide deeper insights into these associations and inform the development of more effective therapeutic strategies."
   ]
  },
  {
   "cell_type": "code",
   "execution_count": null,
   "id": "cec5a601",
   "metadata": {},
   "outputs": [],
   "source": []
  }
 ],
 "metadata": {
  "kernelspec": {
   "display_name": "Python 3 (ipykernel)",
   "language": "python",
   "name": "python3"
  },
  "language_info": {
   "codemirror_mode": {
    "name": "ipython",
    "version": 3
   },
   "file_extension": ".py",
   "mimetype": "text/x-python",
   "name": "python",
   "nbconvert_exporter": "python",
   "pygments_lexer": "ipython3",
   "version": "3.11.5"
  }
 },
 "nbformat": 4,
 "nbformat_minor": 5
}
